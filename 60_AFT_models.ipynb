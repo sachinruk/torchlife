{
 "cells": [
  {
   "cell_type": "code",
   "execution_count": null,
   "metadata": {},
   "outputs": [],
   "source": [
    "# default_exp models.aft"
   ]
  },
  {
   "cell_type": "markdown",
   "metadata": {},
   "source": [
    "# Accelerated Failure Time Models\n",
    "> AFT Model theory."
   ]
  },
  {
   "cell_type": "markdown",
   "metadata": {},
   "source": [
    "We can model the time to failure as:\n",
    "$$\n",
    "\\log T_i = \\mu + \\xi_i\n",
    "$$\n",
    "where $\\xi_i\\sim p(\\xi|\\theta)$ and $\\mu$ is the most likely log time of death (the mode of the distribution of $T_i$). We model log death as that way we do not need to restrict $\\mu + \\xi_i$ to be positive.\n",
    "\n",
    "In the censored case, where $t_i$ is the time where an instance was censored, and $T_i$ is the unobserved time of death, we have:\n",
    "$$\n",
    "\\begin{aligned}\n",
    "\\log T_i &= \\mu(x_i) + \\xi_i > \\log t_i\\\\\n",
    "\\therefore \\xi_i &> \\log t_i - \\mu(x_i)\n",
    "\\end{aligned}\n",
    "$$\n",
    "Note that $\\mu$ is a function of the features $x$. The log likelihood of the data ($\\mathcal{D}$) can then shown to be:\n",
    "$$\n",
    "\\begin{aligned}\n",
    "\\log p(\\mathcal{D}) = \\sum_{i=1}^N \\mathcal{1}(y_i=1)\\log p(\\xi_i = \\log t_i - \\mu(x_i)) + \\mathcal{1}(y_i=0)\\log p(\\xi_i &> \\log t_i - \\mu(x_i))\n",
    "\\end{aligned}\n",
    "$$"
   ]
  },
  {
   "cell_type": "code",
   "execution_count": null,
   "metadata": {},
   "outputs": [],
   "source": [
    "#export\n",
    "import matplotlib.pyplot as plt\n",
    "import numpy as np\n",
    "import torch\n",
    "import torch.nn as nn\n",
    "import torch.nn.functional as F\n",
    "from sklearn.preprocessing import MaxAbsScaler, StandardScaler\n",
    "\n",
    "from torchlife.models.error_dist import get_distribution"
   ]
  },
  {
   "cell_type": "code",
   "execution_count": null,
   "metadata": {},
   "outputs": [],
   "source": [
    "# hide\n",
    "%load_ext autoreload\n",
    "%autoreload 2\n",
    "\n",
    "%matplotlib inline"
   ]
  },
  {
   "cell_type": "code",
   "execution_count": null,
   "metadata": {},
   "outputs": [],
   "source": [
    "# export\n",
    "class AFT(nn.Module):\n",
    "    \"\"\"\n",
    "    Accelerated Failure Time model\n",
    "    parameters:\n",
    "    - Distribution of which the error is assumed to be\n",
    "    - t_scaler: time scaling sklearn object\n",
    "    - x_scaler (optional): feature scaler\n",
    "    - dim (optional): input dimensionality of variables\n",
    "    - h (optional): number of hidden nodes\n",
    "    \"\"\"\n",
    "    def __init__(self, distribution:str, \n",
    "                 t_scaler:MaxAbsScaler, x_scaler:StandardScaler=None, \n",
    "                 dim:int=0, h:tuple=()):\n",
    "        super().__init__()\n",
    "        self.logpdf, self.logcdf = get_distribution(distribution)\n",
    "        self.β = nn.Parameter(-torch.rand(1))\n",
    "        self.logσ = nn.Parameter(-torch.rand(1))\n",
    "        if dim > 0:\n",
    "            nodes = (dim,) + h + (1,)\n",
    "            self.layers = nn.ModuleList([nn.Linear(a,b, bias=False) \n",
    "                                       for a,b in zip(nodes[:-1], nodes[1:])])\n",
    "\n",
    "        self.t_scaler, self.x_scaler = t_scaler, x_scaler\n",
    "        self.eps = 1e-7\n",
    "\n",
    "    def forward(self, t:torch.Tensor, x:torch.Tensor=None):\n",
    "        # get the Kaplan Meier estimates\n",
    "        μ = self.β\n",
    "        if x:\n",
    "            for layer in self.layers[:-1]:\n",
    "                x = F.relu(layer(x))\n",
    "            μ += self.layers[-1](x)\n",
    "\n",
    "        ξ = torch.log(t + self.eps) - μ\n",
    "        σ = torch.exp(self.logσ)\n",
    "        logpdf = self.logpdf(ξ, σ)\n",
    "        logcdf = self.logcdf(ξ, σ)\n",
    "        return logpdf, logcdf\n",
    "    \n",
    "    def survival_function(self, t:np.array, x:np.array=None):\n",
    "        if len(t.shape) == 1:\n",
    "            t = t[:,None]\n",
    "        t = self.t_scaler.transform(t)\n",
    "        t = torch.Tensor(t)\n",
    "        if x is not None:\n",
    "            if len(x.shape) == 1:\n",
    "                x = x[None, :]\n",
    "            if len(x) == 1:\n",
    "                x = np.repeat(x, len(t), axis=0)\n",
    "            x = self.x_scaler.transform(x)\n",
    "            x = torch.Tensor(x)\n",
    "        \n",
    "        with torch.no_grad():\n",
    "            # calculate cumulative hazard according to above\n",
    "            _, Λ = self.forward(t, x)\n",
    "            return torch.exp(Λ)\n",
    "            \n",
    "    def plot_survival_function(self, t:np.array, x:np.array=None):\n",
    "        surv_fun = self.survival_function(t, x)\n",
    "        \n",
    "        # plot\n",
    "        plt.figure(figsize=(12,5))\n",
    "        plt.plot(t, surv_fun)\n",
    "        plt.xlabel('Time')\n",
    "        plt.ylabel('Survival Probability')\n",
    "        plt.show()"
   ]
  },
  {
   "cell_type": "code",
   "execution_count": null,
   "metadata": {},
   "outputs": [
    {
     "name": "stdout",
     "output_type": "stream",
     "text": [
      "Death occurs in 27.55% of cases\n",
      "(7874, 11)\n"
     ]
    },
    {
     "data": {
      "text/html": [
       "<div>\n",
       "<style scoped>\n",
       "    .dataframe tbody tr th:only-of-type {\n",
       "        vertical-align: middle;\n",
       "    }\n",
       "\n",
       "    .dataframe tbody tr th {\n",
       "        vertical-align: top;\n",
       "    }\n",
       "\n",
       "    .dataframe thead th {\n",
       "        text-align: right;\n",
       "    }\n",
       "</style>\n",
       "<table border=\"1\" class=\"dataframe\">\n",
       "  <thead>\n",
       "    <tr style=\"text-align: right;\">\n",
       "      <th></th>\n",
       "      <th>age</th>\n",
       "      <th>sex</th>\n",
       "      <th>sample.yr</th>\n",
       "      <th>kappa</th>\n",
       "      <th>lambda</th>\n",
       "      <th>flc.grp</th>\n",
       "      <th>creatinine</th>\n",
       "      <th>mgus</th>\n",
       "      <th>t</th>\n",
       "      <th>e</th>\n",
       "      <th>chapter</th>\n",
       "    </tr>\n",
       "  </thead>\n",
       "  <tbody>\n",
       "    <tr>\n",
       "      <th>0</th>\n",
       "      <td>97</td>\n",
       "      <td>F</td>\n",
       "      <td>1997</td>\n",
       "      <td>5.70</td>\n",
       "      <td>4.860</td>\n",
       "      <td>10</td>\n",
       "      <td>1.7</td>\n",
       "      <td>0</td>\n",
       "      <td>85</td>\n",
       "      <td>1</td>\n",
       "      <td>Circulatory</td>\n",
       "    </tr>\n",
       "    <tr>\n",
       "      <th>1</th>\n",
       "      <td>92</td>\n",
       "      <td>F</td>\n",
       "      <td>2000</td>\n",
       "      <td>0.87</td>\n",
       "      <td>0.683</td>\n",
       "      <td>1</td>\n",
       "      <td>0.9</td>\n",
       "      <td>0</td>\n",
       "      <td>1281</td>\n",
       "      <td>1</td>\n",
       "      <td>Neoplasms</td>\n",
       "    </tr>\n",
       "    <tr>\n",
       "      <th>2</th>\n",
       "      <td>94</td>\n",
       "      <td>F</td>\n",
       "      <td>1997</td>\n",
       "      <td>4.36</td>\n",
       "      <td>3.850</td>\n",
       "      <td>10</td>\n",
       "      <td>1.4</td>\n",
       "      <td>0</td>\n",
       "      <td>69</td>\n",
       "      <td>1</td>\n",
       "      <td>Circulatory</td>\n",
       "    </tr>\n",
       "    <tr>\n",
       "      <th>3</th>\n",
       "      <td>92</td>\n",
       "      <td>F</td>\n",
       "      <td>1996</td>\n",
       "      <td>2.42</td>\n",
       "      <td>2.220</td>\n",
       "      <td>9</td>\n",
       "      <td>1.0</td>\n",
       "      <td>0</td>\n",
       "      <td>115</td>\n",
       "      <td>1</td>\n",
       "      <td>Circulatory</td>\n",
       "    </tr>\n",
       "    <tr>\n",
       "      <th>4</th>\n",
       "      <td>93</td>\n",
       "      <td>F</td>\n",
       "      <td>1996</td>\n",
       "      <td>1.32</td>\n",
       "      <td>1.690</td>\n",
       "      <td>6</td>\n",
       "      <td>1.1</td>\n",
       "      <td>0</td>\n",
       "      <td>1039</td>\n",
       "      <td>1</td>\n",
       "      <td>Circulatory</td>\n",
       "    </tr>\n",
       "  </tbody>\n",
       "</table>\n",
       "</div>"
      ],
      "text/plain": [
       "   age sex  sample.yr  kappa  lambda  flc.grp  creatinine  mgus     t  e  \\\n",
       "0   97   F       1997   5.70   4.860       10         1.7     0    85  1   \n",
       "1   92   F       2000   0.87   0.683        1         0.9     0  1281  1   \n",
       "2   94   F       1997   4.36   3.850       10         1.4     0    69  1   \n",
       "3   92   F       1996   2.42   2.220        9         1.0     0   115  1   \n",
       "4   93   F       1996   1.32   1.690        6         1.1     0  1039  1   \n",
       "\n",
       "       chapter  \n",
       "0  Circulatory  \n",
       "1    Neoplasms  \n",
       "2  Circulatory  \n",
       "3  Circulatory  \n",
       "4  Circulatory  "
      ]
     },
     "execution_count": null,
     "metadata": {},
     "output_type": "execute_result"
    }
   ],
   "source": [
    "from torchlife.data import create_db\n",
    "import pandas as pd\n",
    "\n",
    "url = \"https://raw.githubusercontent.com/vincentarelbundock/Rdatasets/master/csv/survival/flchain.csv\"\n",
    "# url = \"https://raw.githubusercontent.com/vincentarelbundock/Rdatasets/master/csv/HSAUR/mastectomy.csv\"\n",
    "df = pd.read_csv(url).iloc[:,1:]\n",
    "df.rename(columns={'futime':'t', 'death':'e'}, inplace=True)\n",
    "# df['t'] = df['t'] / df['t'].max()\n",
    "\n",
    "db, t_scaler, x_scaler = create_db(df[['t', 'e']])\n",
    "\n",
    "death_rate = 100*df[\"e\"].mean()\n",
    "print(f\"Death occurs in {death_rate:.2f}% of cases\")\n",
    "print(df.shape)\n",
    "df.head()"
   ]
  },
  {
   "cell_type": "code",
   "execution_count": null,
   "metadata": {},
   "outputs": [
    {
     "data": {
      "text/html": [
       "\n",
       "    <div>\n",
       "        <style>\n",
       "            /* Turns off some styling */\n",
       "            progress {\n",
       "                /* gets rid of default border in Firefox and Opera. */\n",
       "                border: none;\n",
       "                /* Needs to be in here for Safari polyfill so background images work as expected. */\n",
       "                background-size: auto;\n",
       "            }\n",
       "            .progress-bar-interrupted, .progress-bar-interrupted::-webkit-progress-bar {\n",
       "                background: #F44336;\n",
       "            }\n",
       "        </style>\n",
       "      <progress value='1' class='' max='2' style='width:300px; height:20px; vertical-align: middle;'></progress>\n",
       "      50.00% [1/2 00:00<00:00]\n",
       "    </div>\n",
       "    \n",
       "<table border=\"1\" class=\"dataframe\">\n",
       "  <thead>\n",
       "    <tr style=\"text-align: left;\">\n",
       "      <th>epoch</th>\n",
       "      <th>train_loss</th>\n",
       "      <th>valid_loss</th>\n",
       "      <th>time</th>\n",
       "    </tr>\n",
       "  </thead>\n",
       "  <tbody>\n",
       "    <tr>\n",
       "      <td>0</td>\n",
       "      <td>6.816547</td>\n",
       "      <td>#na#</td>\n",
       "      <td>00:00</td>\n",
       "    </tr>\n",
       "  </tbody>\n",
       "</table><p>\n",
       "\n",
       "    <div>\n",
       "        <style>\n",
       "            /* Turns off some styling */\n",
       "            progress {\n",
       "                /* gets rid of default border in Firefox and Opera. */\n",
       "                border: none;\n",
       "                /* Needs to be in here for Safari polyfill so background images work as expected. */\n",
       "                background-size: auto;\n",
       "            }\n",
       "            .progress-bar-interrupted, .progress-bar-interrupted::-webkit-progress-bar {\n",
       "                background: #F44336;\n",
       "            }\n",
       "        </style>\n",
       "      <progress value='41' class='' max='50' style='width:300px; height:20px; vertical-align: middle;'></progress>\n",
       "      82.00% [41/50 00:00<00:00 3.1800]\n",
       "    </div>\n",
       "    "
      ],
      "text/plain": [
       "<IPython.core.display.HTML object>"
      ]
     },
     "metadata": {},
     "output_type": "display_data"
    },
    {
     "name": "stdout",
     "output_type": "stream",
     "text": [
      "LR Finder is complete, type {learner_name}.recorder.plot() to see the graph.\n"
     ]
    },
    {
     "data": {
      "image/png": "[encoded data removed]",
      "text/plain": [
       "<Figure size 432x288 with 1 Axes>"
      ]
     },
     "metadata": {
      "needs_background": "light"
     },
     "output_type": "display_data"
    }
   ],
   "source": [
    "# hide\n",
    "from fastai.basics import Learner\n",
    "# from torchlife.models.error_dist import *\n",
    "from torchlife.losses import aft_loss\n",
    "\n",
    "model = AFT(\"Gumbel\", t_scaler, x_scaler)\n",
    "learner = Learner(db, model, loss_func=aft_loss)\n",
    "# wd = 1e-4\n",
    "learner.lr_find(start_lr=1, end_lr=10)\n",
    "learner.recorder.plot()"
   ]
  },
  {
   "cell_type": "code",
   "execution_count": null,
   "metadata": {},
   "outputs": [
    {
     "data": {
      "text/html": [
       "<table border=\"1\" class=\"dataframe\">\n",
       "  <thead>\n",
       "    <tr style=\"text-align: left;\">\n",
       "      <th>epoch</th>\n",
       "      <th>train_loss</th>\n",
       "      <th>valid_loss</th>\n",
       "      <th>time</th>\n",
       "    </tr>\n",
       "  </thead>\n",
       "  <tbody>\n",
       "    <tr>\n",
       "      <td>0</td>\n",
       "      <td>2.559643</td>\n",
       "      <td>0.812798</td>\n",
       "      <td>00:00</td>\n",
       "    </tr>\n",
       "    <tr>\n",
       "      <td>1</td>\n",
       "      <td>1.767039</td>\n",
       "      <td>0.768282</td>\n",
       "      <td>00:00</td>\n",
       "    </tr>\n",
       "    <tr>\n",
       "      <td>2</td>\n",
       "      <td>1.568733</td>\n",
       "      <td>0.551902</td>\n",
       "      <td>00:00</td>\n",
       "    </tr>\n",
       "    <tr>\n",
       "      <td>3</td>\n",
       "      <td>2.550803</td>\n",
       "      <td>0.920807</td>\n",
       "      <td>00:00</td>\n",
       "    </tr>\n",
       "    <tr>\n",
       "      <td>4</td>\n",
       "      <td>2.786080</td>\n",
       "      <td>1.280936</td>\n",
       "      <td>00:00</td>\n",
       "    </tr>\n",
       "    <tr>\n",
       "      <td>5</td>\n",
       "      <td>2.956335</td>\n",
       "      <td>0.788377</td>\n",
       "      <td>00:00</td>\n",
       "    </tr>\n",
       "    <tr>\n",
       "      <td>6</td>\n",
       "      <td>1.888418</td>\n",
       "      <td>0.503037</td>\n",
       "      <td>00:00</td>\n",
       "    </tr>\n",
       "    <tr>\n",
       "      <td>7</td>\n",
       "      <td>1.666995</td>\n",
       "      <td>0.833083</td>\n",
       "      <td>00:00</td>\n",
       "    </tr>\n",
       "    <tr>\n",
       "      <td>8</td>\n",
       "      <td>1.540272</td>\n",
       "      <td>0.539337</td>\n",
       "      <td>00:00</td>\n",
       "    </tr>\n",
       "    <tr>\n",
       "      <td>9</td>\n",
       "      <td>1.369953</td>\n",
       "      <td>0.593749</td>\n",
       "      <td>00:00</td>\n",
       "    </tr>\n",
       "  </tbody>\n",
       "</table>"
      ],
      "text/plain": [
       "<IPython.core.display.HTML object>"
      ]
     },
     "metadata": {},
     "output_type": "display_data"
    }
   ],
   "source": [
    "learner.fit(epochs=10, lr=2)"
   ]
  },
  {
   "cell_type": "code",
   "execution_count": null,
   "metadata": {},
   "outputs": [
    {
     "data": {
      "image/png": "[encoded data removed]",
      "text/plain": [
       "<Figure size 864x360 with 1 Axes>"
      ]
     },
     "metadata": {
      "needs_background": "light"
     },
     "output_type": "display_data"
    }
   ],
   "source": [
    "model.plot_survival_function(np.linspace(0, df[\"t\"].max(), 100))"
   ]
  },
  {
   "cell_type": "code",
   "execution_count": null,
   "metadata": {},
   "outputs": [
    {
     "name": "stdout",
     "output_type": "stream",
     "text": [
      "Converted 00_index.ipynb.\n",
      "Converted 10_SAT.ipynb.\n",
      "Converted 20_KaplanMeier.ipynb.\n",
      "Converted 50_hazard.ipynb.\n",
      "Converted 55_hazard.PiecewiseHazard.ipynb.\n",
      "Converted 59_hazard.Cox.ipynb.\n",
      "Converted 60_AFT_models.ipynb.\n",
      "Converted 65_AFT_error_distributions.ipynb.\n",
      "Converted 80_data.ipynb.\n",
      "Converted 90_model.ipynb.\n",
      "Converted 95_Losses.ipynb.\n"
     ]
    }
   ],
   "source": [
    "# hide\n",
    "from nbdev.export import *\n",
    "notebook2script()"
   ]
  },
  {
   "cell_type": "code",
   "execution_count": null,
   "metadata": {},
   "outputs": [],
   "source": []
  }
 ],
 "metadata": {
  "kernelspec": {
   "display_name": "Python 3",
   "language": "python",
   "name": "python3"
  }
 },
 "nbformat": 4,
 "nbformat_minor": 2
}
