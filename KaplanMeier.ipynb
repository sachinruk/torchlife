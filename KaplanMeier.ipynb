{
 "cells": [
  {
   "cell_type": "code",
   "execution_count": null,
   "metadata": {},
   "outputs": [],
   "source": [
    "# default_exp models.km"
   ]
  },
  {
   "cell_type": "markdown",
   "metadata": {},
   "source": [
    "# Kaplan Meier Estimator\n",
    "> How to estimate the KM estimator, also known as piecewise hazard model.\n",
    "\n",
    "In this module we assume that during a given time period the hazard is constant.\n",
    "We use the following loss function to infer our model.\n",
    "$$\n",
    "-\\log L = \\sum_{i=1}^N \\Lambda(t_i) - d_i \\log \\lambda(t_i)\n",
    "$$"
   ]
  },
  {
   "cell_type": "code",
   "execution_count": null,
   "metadata": {},
   "outputs": [],
   "source": [
    "# export\n",
    "import torch\n",
    "import torch.nn as nn\n",
    "import matplotlib.pyplot as plt\n",
    "import numpy as np\n",
    "\n",
    "torch.Tensor.ndim = property(lambda x: x.dim())"
   ]
  },
  {
   "cell_type": "code",
   "execution_count": null,
   "metadata": {},
   "outputs": [],
   "source": [
    "# hide\n",
    "%load_ext autoreload\n",
    "%autoreload 2\n",
    "%matplotlib inline"
   ]
  },
  {
   "cell_type": "code",
   "execution_count": null,
   "metadata": {},
   "outputs": [],
   "source": [
    "# export\n",
    "class PieceWiseHazard(nn.Module):\n",
    "    \"\"\"\n",
    "    Piecewise Hazard where the hazard is constant between breakpoints.\n",
    "    parameters:\n",
    "    - breakpoints: time points where hazard would change\n",
    "    - max_t: maximum point of time to plot to.\n",
    "    \"\"\"\n",
    "    def __init__(self, breakpoints, max_t):\n",
    "        super().__init__()\n",
    "        self.logλ = nn.Embedding(len(breakpoints)+1, 1)\n",
    "        self.breakpoints = torch.Tensor([0] + breakpoints.tolist())\n",
    "        bounded_bp = [0] + breakpoints.tolist() + [max_t]\n",
    "        self.widths = torch.Tensor(np.diff(bounded_bp).tolist())[:,None]\n",
    "        self.zero = torch.zeros(1,1)\n",
    "        self.max_t = max_t\n",
    "        \n",
    "    def cumulative_hazard(self, t, t_section):\n",
    "        \"\"\"\n",
    "        Integral of hazard wrt time.\n",
    "        \"\"\"\n",
    "        λ = torch.exp(self.logλ.weight)\n",
    "\n",
    "        # cumulative hazard \n",
    "        cum_hazard = λ * self.widths\n",
    "        cum_hazard = cum_hazard.cumsum(0)\n",
    "        cum_hazard = torch.cat([self.zero, cum_hazard])\n",
    "        cum_hazard_sec = cum_hazard[t_section]\n",
    "        \n",
    "        δ_t = t - self.breakpoints[t_section][:,None]\n",
    "        \n",
    "        return cum_hazard_sec + λ[t_section] * δ_t\n",
    "        \n",
    "    def forward(self, t, t_section, *args):\n",
    "        return self.logλ(t_section), self.cumulative_hazard(t, t_section)\n",
    "    \n",
    "    def plot_survival_function(self):\n",
    "        # get the times and time sections for survival function\n",
    "        t_query = np.arange(self.max_t+10)\n",
    "        breakpoints = self.breakpoints[1:].cpu().numpy()\n",
    "        t_sec_query = np.searchsorted(breakpoints, t_query)\n",
    "        # convert to pytorch tensors\n",
    "        t_query = torch.Tensor(t_query)[:,None]\n",
    "        t_sec_query = torch.LongTensor(t_sec_query)\n",
    "        \n",
    "        # calculate cumulative hazard according to above\n",
    "        cum_haz = self.cumulative_hazard(t_query, t_sec_query)\n",
    "        surv_fun = torch.exp(-cum_haz)\n",
    "        \n",
    "        # plot\n",
    "        plt.figure(figsize=(12,5))\n",
    "        plt.plot(t_query, surv_fun)\n",
    "        plt.xlabel('Time')\n",
    "        plt.ylabel('Survival Probability')\n",
    "        plt.show()\n",
    "        \n",
    "    def plot_hazard(self):\n",
    "        \"\"\"\n",
    "        Plot base hazard\n",
    "        \"\"\"\n",
    "        width = self.widths.squeeze()\n",
    "        x = self.breakpoints.squeeze()\n",
    "        λ = torch.exp(self.logλ.weight)\n",
    "        y = λ.squeeze()\n",
    "        # plot\n",
    "        plt.figure(figsize=(12,5))\n",
    "        plt.bar(x, y, width, align='edge')\n",
    "        plt.ylabel('λ')\n",
    "        plt.xlabel('t')\n",
    "        plt.show()"
   ]
  },
  {
   "cell_type": "code",
   "execution_count": null,
   "metadata": {},
   "outputs": [],
   "source": [
    "# export\n",
    "def km_loss(params, e):\n",
    "    logλ, Λ = params # unpack the estimates parameters\n",
    "    log_lik = e * logλ - Λ\n",
    "    return -log_lik.mean()"
   ]
  },
  {
   "cell_type": "markdown",
   "metadata": {},
   "source": [
    "## Fitting KM Model to Rossi dataset"
   ]
  },
  {
   "cell_type": "code",
   "execution_count": null,
   "metadata": {},
   "outputs": [],
   "source": [
    "# hide\n",
    "from torchlife.data import create_db\n",
    "import pandas as pd"
   ]
  },
  {
   "cell_type": "code",
   "execution_count": null,
   "metadata": {},
   "outputs": [
    {
     "data": {
      "text/html": [
       "<div>\n",
       "<style scoped>\n",
       "    .dataframe tbody tr th:only-of-type {\n",
       "        vertical-align: middle;\n",
       "    }\n",
       "\n",
       "    .dataframe tbody tr th {\n",
       "        vertical-align: top;\n",
       "    }\n",
       "\n",
       "    .dataframe thead th {\n",
       "        text-align: right;\n",
       "    }\n",
       "</style>\n",
       "<table border=\"1\" class=\"dataframe\">\n",
       "  <thead>\n",
       "    <tr style=\"text-align: right;\">\n",
       "      <th></th>\n",
       "      <th>week</th>\n",
       "      <th>arrest</th>\n",
       "      <th>fin</th>\n",
       "      <th>age</th>\n",
       "      <th>race</th>\n",
       "      <th>wexp</th>\n",
       "      <th>mar</th>\n",
       "      <th>paro</th>\n",
       "      <th>prio</th>\n",
       "    </tr>\n",
       "  </thead>\n",
       "  <tbody>\n",
       "    <tr>\n",
       "      <th>0</th>\n",
       "      <td>20</td>\n",
       "      <td>1</td>\n",
       "      <td>0</td>\n",
       "      <td>27</td>\n",
       "      <td>1</td>\n",
       "      <td>0</td>\n",
       "      <td>0</td>\n",
       "      <td>1</td>\n",
       "      <td>3</td>\n",
       "    </tr>\n",
       "    <tr>\n",
       "      <th>1</th>\n",
       "      <td>17</td>\n",
       "      <td>1</td>\n",
       "      <td>0</td>\n",
       "      <td>18</td>\n",
       "      <td>1</td>\n",
       "      <td>0</td>\n",
       "      <td>0</td>\n",
       "      <td>1</td>\n",
       "      <td>8</td>\n",
       "    </tr>\n",
       "    <tr>\n",
       "      <th>2</th>\n",
       "      <td>25</td>\n",
       "      <td>1</td>\n",
       "      <td>0</td>\n",
       "      <td>19</td>\n",
       "      <td>0</td>\n",
       "      <td>1</td>\n",
       "      <td>0</td>\n",
       "      <td>1</td>\n",
       "      <td>13</td>\n",
       "    </tr>\n",
       "    <tr>\n",
       "      <th>3</th>\n",
       "      <td>52</td>\n",
       "      <td>0</td>\n",
       "      <td>1</td>\n",
       "      <td>23</td>\n",
       "      <td>1</td>\n",
       "      <td>1</td>\n",
       "      <td>1</td>\n",
       "      <td>1</td>\n",
       "      <td>1</td>\n",
       "    </tr>\n",
       "    <tr>\n",
       "      <th>4</th>\n",
       "      <td>52</td>\n",
       "      <td>0</td>\n",
       "      <td>0</td>\n",
       "      <td>19</td>\n",
       "      <td>0</td>\n",
       "      <td>1</td>\n",
       "      <td>0</td>\n",
       "      <td>1</td>\n",
       "      <td>3</td>\n",
       "    </tr>\n",
       "  </tbody>\n",
       "</table>\n",
       "</div>"
      ],
      "text/plain": [
       "   week  arrest  fin  age  race  wexp  mar  paro  prio\n",
       "0    20       1    0   27     1     0    0     1     3\n",
       "1    17       1    0   18     1     0    0     1     8\n",
       "2    25       1    0   19     0     1    0     1    13\n",
       "3    52       0    1   23     1     1    1     1     1\n",
       "4    52       0    0   19     0     1    0     1     3"
      ]
     },
     "execution_count": null,
     "metadata": {},
     "output_type": "execute_result"
    }
   ],
   "source": [
    "url = \"https://raw.githubusercontent.com/CamDavidsonPilon/lifelines/master/lifelines/datasets/rossi.csv\"\n",
    "df = pd.read_csv(url)\n",
    "df.head()"
   ]
  },
  {
   "cell_type": "markdown",
   "metadata": {},
   "source": [
    "Create breakpoints by splitting up the time."
   ]
  },
  {
   "cell_type": "code",
   "execution_count": null,
   "metadata": {},
   "outputs": [
    {
     "name": "stdout",
     "output_type": "stream",
     "text": [
      "[14.6 24.  35.  43.4]\n"
     ]
    }
   ],
   "source": [
    "df.rename(columns={'week':'t', 'arrest':'e'}, inplace=True)\n",
    "\n",
    "event_times = df.loc[df['e']==1, 't'].values\n",
    "breakpoints = np.percentile(event_times, [20, 40, 60, 80])\n",
    "print(breakpoints)\n",
    "\n",
    "db = create_db(df, breakpoints)"
   ]
  },
  {
   "cell_type": "code",
   "execution_count": null,
   "metadata": {},
   "outputs": [
    {
     "data": {
      "text/html": [],
      "text/plain": [
       "<IPython.core.display.HTML object>"
      ]
     },
     "metadata": {},
     "output_type": "display_data"
    },
    {
     "name": "stdout",
     "output_type": "stream",
     "text": [
      "LR Finder is complete, type {learner_name}.recorder.plot() to see the graph.\n"
     ]
    },
    {
     "data": {
      "image/png": "[encoded data removed]",
      "text/plain": [
       "<Figure size 432x288 with 1 Axes>"
      ]
     },
     "metadata": {
      "needs_background": "light"
     },
     "output_type": "display_data"
    }
   ],
   "source": [
    "from fastai.basics import Learner\n",
    "\n",
    "model = PieceWiseHazard(breakpoints, df['t'].max())\n",
    "learner = Learner(db, model, loss_func=km_loss)\n",
    "learner.lr_find()\n",
    "learner.recorder.plot(skip_end=0)"
   ]
  },
  {
   "cell_type": "code",
   "execution_count": null,
   "metadata": {},
   "outputs": [
    {
     "data": {
      "text/html": [
       "<table border=\"1\" class=\"dataframe\">\n",
       "  <thead>\n",
       "    <tr style=\"text-align: left;\">\n",
       "      <th>epoch</th>\n",
       "      <th>train_loss</th>\n",
       "      <th>valid_loss</th>\n",
       "      <th>time</th>\n",
       "    </tr>\n",
       "  </thead>\n",
       "  <tbody>\n",
       "    <tr>\n",
       "      <td>0</td>\n",
       "      <td>39.840748</td>\n",
       "      <td>30.979021</td>\n",
       "      <td>00:00</td>\n",
       "    </tr>\n",
       "    <tr>\n",
       "      <td>1</td>\n",
       "      <td>32.506409</td>\n",
       "      <td>10.698986</td>\n",
       "      <td>00:00</td>\n",
       "    </tr>\n",
       "    <tr>\n",
       "      <td>2</td>\n",
       "      <td>23.945866</td>\n",
       "      <td>3.199853</td>\n",
       "      <td>00:00</td>\n",
       "    </tr>\n",
       "    <tr>\n",
       "      <td>3</td>\n",
       "      <td>18.241428</td>\n",
       "      <td>2.087759</td>\n",
       "      <td>00:00</td>\n",
       "    </tr>\n",
       "    <tr>\n",
       "      <td>4</td>\n",
       "      <td>14.622459</td>\n",
       "      <td>2.021047</td>\n",
       "      <td>00:00</td>\n",
       "    </tr>\n",
       "    <tr>\n",
       "      <td>5</td>\n",
       "      <td>12.220059</td>\n",
       "      <td>2.083731</td>\n",
       "      <td>00:00</td>\n",
       "    </tr>\n",
       "    <tr>\n",
       "      <td>6</td>\n",
       "      <td>10.498804</td>\n",
       "      <td>2.139662</td>\n",
       "      <td>00:00</td>\n",
       "    </tr>\n",
       "    <tr>\n",
       "      <td>7</td>\n",
       "      <td>9.232689</td>\n",
       "      <td>2.172746</td>\n",
       "      <td>00:00</td>\n",
       "    </tr>\n",
       "    <tr>\n",
       "      <td>8</td>\n",
       "      <td>8.253401</td>\n",
       "      <td>2.187253</td>\n",
       "      <td>00:00</td>\n",
       "    </tr>\n",
       "    <tr>\n",
       "      <td>9</td>\n",
       "      <td>7.457018</td>\n",
       "      <td>2.190218</td>\n",
       "      <td>00:00</td>\n",
       "    </tr>\n",
       "  </tbody>\n",
       "</table>"
      ],
      "text/plain": [
       "<IPython.core.display.HTML object>"
      ]
     },
     "metadata": {},
     "output_type": "display_data"
    }
   ],
   "source": [
    "epochs = 10\n",
    "learner.fit_one_cycle(epochs, max_lr=2)"
   ]
  },
  {
   "cell_type": "code",
   "execution_count": null,
   "metadata": {},
   "outputs": [
    {
     "data": {
      "image/png": "[encoded data removed]",
      "text/plain": [
       "<Figure size 864x360 with 1 Axes>"
      ]
     },
     "metadata": {
      "needs_background": "light"
     },
     "output_type": "display_data"
    },
    {
     "data": {
      "image/png": "[encoded data removed]",
      "text/plain": [
       "<Figure size 864x360 with 1 Axes>"
      ]
     },
     "metadata": {
      "needs_background": "light"
     },
     "output_type": "display_data"
    }
   ],
   "source": [
    "learner.model.plot_hazard()\n",
    "learner.model.plot_survival_function()"
   ]
  },
  {
   "cell_type": "code",
   "execution_count": null,
   "metadata": {},
   "outputs": [
    {
     "name": "stdout",
     "output_type": "stream",
     "text": [
      "Converted Cox_Proportional_Hazard.ipynb.\n",
      "Converted KaplanMeier.ipynb.\n",
      "Converted Survival Analysis Theory.ipynb.\n",
      "Converted data.ipynb.\n",
      "Converted index.ipynb.\n",
      "Converted utils.ipynb.\n"
     ]
    }
   ],
   "source": [
    "# hide\n",
    "from nbdev.export import *\n",
    "notebook2script()"
   ]
  },
  {
   "cell_type": "code",
   "execution_count": null,
   "metadata": {},
   "outputs": [],
   "source": []
  }
 ],
 "metadata": {
  "kernelspec": {
   "display_name": "Python 3",
   "language": "python",
   "name": "python3"
  }
 },
 "nbformat": 4,
 "nbformat_minor": 2
}
