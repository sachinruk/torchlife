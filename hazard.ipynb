{
 "cells": [
  {
   "cell_type": "markdown",
   "metadata": {},
   "source": [
    "# Hazard Models\n",
    "> Hazard based models."
   ]
  },
  {
   "cell_type": "markdown",
   "metadata": {},
   "source": [
    "We can choose to model the [instantaneous hazard](/SAT#The-Survival-Function) directly. There are two methods:\n",
    "\n",
    "- [Piecewise Hazard](/hazard.PiecewiseHazard)\n",
    "- [Cox Model](/hazard.Cox) which is an extension of the"
   ]
  },
  {
   "cell_type": "code",
   "execution_count": null,
   "metadata": {},
   "outputs": [],
   "source": []
  }
 ],
 "metadata": {
  "kernelspec": {
   "display_name": "Python 3",
   "language": "python",
   "name": "python3"
  }
 },
 "nbformat": 4,
 "nbformat_minor": 4
}
