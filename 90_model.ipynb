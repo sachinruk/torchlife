{
 "cells": [
  {
   "cell_type": "code",
   "execution_count": null,
   "metadata": {},
   "outputs": [],
   "source": [
    "#default_exp model"
   ]
  },
  {
   "cell_type": "markdown",
   "metadata": {},
   "source": [
    "# Base Model\n",
    "> This class contains the base which is used to train data upon."
   ]
  },
  {
   "cell_type": "code",
   "execution_count": null,
   "metadata": {},
   "outputs": [],
   "source": [
    "# hide\n",
    "%load_ext autoreload\n",
    "%autoreload 2\n",
    "%matplotlib inline"
   ]
  },
  {
   "cell_type": "code",
   "execution_count": null,
   "metadata": {},
   "outputs": [],
   "source": [
    "# export\n",
    "from dataclasses import dataclass\n",
    "from datetime import datetime\n",
    "from typing import Callable, List, Optional, Tuple\n",
    "\n",
    "import pandas as pd\n",
    "import pytorch_lightning as pl\n",
    "from pytorch_lightning.callbacks import EarlyStopping, ModelCheckpoint\n",
    "import torch\n",
    "import torch.nn as nn\n",
    "import torch.nn.functional as F\n",
    "from torch.optim.lr_scheduler import ReduceLROnPlateau\n",
    "\n",
    "from torchlife.models.ph import PieceWiseHazard\n",
    "from torchlife.models.cox import ProportionalHazard\n",
    "from torchlife.models.aft import AFTModel\n",
    "from torchlife.data import create_dl, create_test_dl, get_breakpoints\n",
    "from torchlife.losses import aft_loss, hazard_loss, Loss, HazardLoss, AFTLoss"
   ]
  },
  {
   "cell_type": "code",
   "execution_count": null,
   "metadata": {},
   "outputs": [],
   "source": [
    "# hide\n",
    "import matplotlib.pyplot as plt\n",
    "%matplotlib inline"
   ]
  },
  {
   "cell_type": "markdown",
   "metadata": {},
   "source": [
    "## General Model"
   ]
  },
  {
   "cell_type": "code",
   "execution_count": null,
   "metadata": {},
   "outputs": [],
   "source": [
    "class GeneralModel(pl.LightningModule):\n",
    "    def __init__(\n",
    "        self,\n",
    "        base: nn.Module,\n",
    "        loss_fn: Loss,\n",
    "        lr: float = 1e-3,\n",
    "    ) -> None:\n",
    "        \"\"\"\n",
    "        n_features: The number of real valued feature.\n",
    "        n_layers: Number of Deep learning layers.\n",
    "        loss_fn: Loss function.\n",
    "        n_cats: List of integers containing the number of unique values per category.\n",
    "        \"\"\"\n",
    "        super().__init__()\n",
    "        self.base = base\n",
    "        self.loss_fn = loss_fn\n",
    "        self.lr = lr\n",
    "        \n",
    "    def forward(self, x):\n",
    "        return self.base(*x)\n",
    "    \n",
    "    def common_step(\n",
    "        self, batch: Tuple[torch.Tensor, torch.Tensor, torch.Tensor]\n",
    "    ) -> Tuple[torch.Tensor, torch.Tensor, torch.LongTensor]:\n",
    "        x, e = batch\n",
    "        density_term, cumulative_term = self(x)\n",
    "        loss = self.loss_fn(e.squeeze(), density_term.squeeze(), cumulative_term.squeeze())\n",
    "        \n",
    "        if torch.isnan(loss):\n",
    "            breakpoint()\n",
    "        return loss\n",
    "    \n",
    "    def training_step(self, batch, *args):\n",
    "        loss = self.common_step(batch)\n",
    "        self.log(\"training_loss\", loss, on_step=True, on_epoch=True)\n",
    "    \n",
    "    def validation_step(self, batch, *args):\n",
    "        loss = self.common_step(batch)\n",
    "        self.log(\"val_loss\", loss, on_step=True, on_epoch=True)\n",
    "        \n",
    "    def configure_optimizers(self):\n",
    "        optimizer = torch.optim.Adam(self.parameters(), lr=self.lr)\n",
    "        return {\n",
    "            \"optimizer\": optimizer,\n",
    "            \"lr_scheduler\": ReduceLROnPlateau(optimizer, patience=2),\n",
    "            \"monitor\": \"val_loss\"\n",
    "        }"
   ]
  },
  {
   "cell_type": "code",
   "execution_count": null,
   "metadata": {},
   "outputs": [],
   "source": [
    "def train_model(model, train_dl, valid_dl, epochs):\n",
    "    checkpoint_callback = ModelCheckpoint(\n",
    "        monitor=\"val_loss\",\n",
    "        dirpath=\"./models/\",\n",
    "        filename= \"model-{epoch:02d}-{val_loss:.2f}\",\n",
    "        save_last=True,\n",
    "    )\n",
    "    early_stopping = EarlyStopping(\"val_loss\")\n",
    "\n",
    "    trainer = pl.Trainer(\n",
    "        max_epochs=epochs,\n",
    "        gpus=torch.cuda.device_count(),\n",
    "        callbacks=[early_stopping, checkpoint_callback]\n",
    "    )\n",
    "    trainer.fit(model, train_dl, valid_dl)"
   ]
  },
  {
   "cell_type": "markdown",
   "metadata": {},
   "source": [
    "## Data for Demo"
   ]
  },
  {
   "cell_type": "code",
   "execution_count": null,
   "metadata": {},
   "outputs": [],
   "source": [
    "# hide\n",
    "import pandas as pd\n",
    "import numpy as np\n",
    "url = \"https://raw.githubusercontent.com/CamDavidsonPilon/lifelines/master/lifelines/datasets/rossi.csv\"\n",
    "df = pd.read_csv(url)\n",
    "df.rename(columns={'week':'t', 'arrest':'e'}, inplace=True)"
   ]
  },
  {
   "cell_type": "code",
   "execution_count": null,
   "metadata": {},
   "outputs": [
    {
     "name": "stdout",
     "output_type": "stream",
     "text": [
      "(432, 9)\n"
     ]
    },
    {
     "data": {
      "text/html": [
       "<div>\n",
       "<style scoped>\n",
       "    .dataframe tbody tr th:only-of-type {\n",
       "        vertical-align: middle;\n",
       "    }\n",
       "\n",
       "    .dataframe tbody tr th {\n",
       "        vertical-align: top;\n",
       "    }\n",
       "\n",
       "    .dataframe thead th {\n",
       "        text-align: right;\n",
       "    }\n",
       "</style>\n",
       "<table border=\"1\" class=\"dataframe\">\n",
       "  <thead>\n",
       "    <tr style=\"text-align: right;\">\n",
       "      <th></th>\n",
       "      <th>t</th>\n",
       "      <th>e</th>\n",
       "      <th>fin</th>\n",
       "      <th>age</th>\n",
       "      <th>race</th>\n",
       "      <th>wexp</th>\n",
       "      <th>mar</th>\n",
       "      <th>paro</th>\n",
       "      <th>prio</th>\n",
       "    </tr>\n",
       "  </thead>\n",
       "  <tbody>\n",
       "    <tr>\n",
       "      <th>0</th>\n",
       "      <td>20</td>\n",
       "      <td>1</td>\n",
       "      <td>0</td>\n",
       "      <td>27</td>\n",
       "      <td>1</td>\n",
       "      <td>0</td>\n",
       "      <td>0</td>\n",
       "      <td>1</td>\n",
       "      <td>3</td>\n",
       "    </tr>\n",
       "    <tr>\n",
       "      <th>1</th>\n",
       "      <td>17</td>\n",
       "      <td>1</td>\n",
       "      <td>0</td>\n",
       "      <td>18</td>\n",
       "      <td>1</td>\n",
       "      <td>0</td>\n",
       "      <td>0</td>\n",
       "      <td>1</td>\n",
       "      <td>8</td>\n",
       "    </tr>\n",
       "    <tr>\n",
       "      <th>2</th>\n",
       "      <td>25</td>\n",
       "      <td>1</td>\n",
       "      <td>0</td>\n",
       "      <td>19</td>\n",
       "      <td>0</td>\n",
       "      <td>1</td>\n",
       "      <td>0</td>\n",
       "      <td>1</td>\n",
       "      <td>13</td>\n",
       "    </tr>\n",
       "    <tr>\n",
       "      <th>3</th>\n",
       "      <td>52</td>\n",
       "      <td>0</td>\n",
       "      <td>1</td>\n",
       "      <td>23</td>\n",
       "      <td>1</td>\n",
       "      <td>1</td>\n",
       "      <td>1</td>\n",
       "      <td>1</td>\n",
       "      <td>1</td>\n",
       "    </tr>\n",
       "    <tr>\n",
       "      <th>4</th>\n",
       "      <td>52</td>\n",
       "      <td>0</td>\n",
       "      <td>0</td>\n",
       "      <td>19</td>\n",
       "      <td>0</td>\n",
       "      <td>1</td>\n",
       "      <td>0</td>\n",
       "      <td>1</td>\n",
       "      <td>3</td>\n",
       "    </tr>\n",
       "  </tbody>\n",
       "</table>\n",
       "</div>"
      ],
      "text/plain": [
       "    t  e  fin  age  race  wexp  mar  paro  prio\n",
       "0  20  1    0   27     1     0    0     1     3\n",
       "1  17  1    0   18     1     0    0     1     8\n",
       "2  25  1    0   19     0     1    0     1    13\n",
       "3  52  0    1   23     1     1    1     1     1\n",
       "4  52  0    0   19     0     1    0     1     3"
      ]
     },
     "execution_count": null,
     "metadata": {},
     "output_type": "execute_result"
    }
   ],
   "source": [
    "print(df.shape)\n",
    "df.head()"
   ]
  },
  {
   "cell_type": "markdown",
   "metadata": {},
   "source": [
    "## Hazard Model"
   ]
  },
  {
   "cell_type": "code",
   "execution_count": null,
   "metadata": {},
   "outputs": [],
   "source": [
    "# export\n",
    "_text2model_ = {\n",
    "    'ph': PieceWiseHazard,\n",
    "    'cox': ProportionalHazard\n",
    "}\n",
    "\n",
    "class ModelHazard:\n",
    "    \"\"\"\n",
    "    Modelling instantaneous hazard (λ).\n",
    "    parameters:\n",
    "    - model(str): ['ph'|'cox'] which maps to Piecewise Hazard, Cox Proportional Hazard.\n",
    "    - percentiles: list of time percentiles at which time should be broken\n",
    "    - h: list of hidden units (disregarding input units)\n",
    "    - bs: batch size\n",
    "    - epochs: epochs\n",
    "    - lr: learning rate\n",
    "    - beta: l2 penalty on weights\n",
    "    \"\"\"\n",
    "    def __init__(self, model:str, percentiles=[20, 40, 60, 80], h:tuple=(),\n",
    "                 bs:int=128, epochs:int=20, lr:float=1.0, beta:float=0):\n",
    "        self.base_model = _text2model_[model]\n",
    "        self.percentiles = percentiles\n",
    "        self.loss_fn = HazardLoss()\n",
    "        self.h = h\n",
    "        self.bs, self.epochs, self.lr, self.beta = bs, epochs, lr, beta\n",
    "        \n",
    "    def fit(self, df):\n",
    "        breakpoints = get_breakpoints(df, self.percentiles)\n",
    "        train_dl, valid_dl, t_scaler, x_scaler = create_dl(df, breakpoints)\n",
    "        dim = df.shape[1] - 2\n",
    "        assert dim > 0, ValueError(\"dimensions of x input needs to be >0. Choose ph instead\")\n",
    "\n",
    "        model_args = {\n",
    "            'breakpoints': breakpoints, \n",
    "            't_scaler': t_scaler, \n",
    "            'x_scaler': x_scaler, \n",
    "            'h': self.h, \n",
    "            'dim': dim\n",
    "        }\n",
    "        self.model = GeneralModel(\n",
    "            self.base_model(**model_args),\n",
    "            self.loss_fn,\n",
    "            self.lr\n",
    "        )\n",
    "        \n",
    "        self.breakpoints = breakpoints\n",
    "        self.t_scaler = t_scaler\n",
    "        self.x_scaler = x_scaler\n",
    "        train_model(self.model, train_dl, valid_dl, self.epochs)\n",
    "            \n",
    "    def predict(self, df):\n",
    "        test_dl = create_test_dl(df, self.breakpoints, self.t_scaler, self.x_scaler)\n",
    "        with torch.no_grad():\n",
    "            self.model.eval()\n",
    "            λ, S = [], []\n",
    "            for x in test_dl:\n",
    "                preds = self.model(x)\n",
    "                λ.append(torch.exp(preds[0]))\n",
    "                S.append(torch.exp(-preds[1]))\n",
    "            return torch.cat(λ), torch.cat(S)\n",
    "        \n",
    "    def plot_survival_function(self, *args):\n",
    "        self.model.base.plot_survival_function(*args)"
   ]
  },
  {
   "cell_type": "markdown",
   "metadata": {},
   "source": [
    "## Cox Model Demo"
   ]
  },
  {
   "cell_type": "code",
   "execution_count": null,
   "metadata": {},
   "outputs": [
    {
     "name": "stderr",
     "output_type": "stream",
     "text": [
      "GPU available: False, used: False\n",
      "TPU available: None, using: 0 TPU cores\n",
      "\n",
      "  | Name | Type               | Params\n",
      "--------------------------------------------\n",
      "0 | base | ProportionalHazard | 12    \n",
      "--------------------------------------------\n",
      "12        Trainable params\n",
      "0         Non-trainable params\n",
      "12        Total params\n"
     ]
    },
    {
     "data": {
      "application/vnd.jupyter.widget-view+json": {
       "model_id": "",
       "version_major": 2,
       "version_minor": 0
      },
      "text/plain": [
       "HBox(children=(FloatProgress(value=1.0, bar_style='info', description='Validation sanity check', layout=Layout…"
      ]
     },
     "metadata": {},
     "output_type": "display_data"
    },
    {
     "name": "stdout",
     "output_type": "stream",
     "text": [
      "\r"
     ]
    },
    {
     "data": {
      "application/vnd.jupyter.widget-view+json": {
       "model_id": "b6bc0b9a7ea644c99245b8eafd8464cd",
       "version_major": 2,
       "version_minor": 0
      },
      "text/plain": [
       "HBox(children=(FloatProgress(value=1.0, bar_style='info', description='Training', layout=Layout(flex='2'), max…"
      ]
     },
     "metadata": {},
     "output_type": "display_data"
    },
    {
     "name": "stderr",
     "output_type": "stream",
     "text": [
      "/Users/sachinthaka/opt/miniconda3/lib/python3.7/site-packages/pytorch_lightning/utilities/distributed.py:49: UserWarning: training_step returned None if it was on purpose, ignore this warning...\n",
      "  warnings.warn(*args, **kwargs)\n"
     ]
    },
    {
     "data": {
      "application/vnd.jupyter.widget-view+json": {
       "model_id": "",
       "version_major": 2,
       "version_minor": 0
      },
      "text/plain": [
       "HBox(children=(FloatProgress(value=1.0, bar_style='info', description='Validating', layout=Layout(flex='2'), m…"
      ]
     },
     "metadata": {},
     "output_type": "display_data"
    },
    {
     "data": {
      "application/vnd.jupyter.widget-view+json": {
       "model_id": "",
       "version_major": 2,
       "version_minor": 0
      },
      "text/plain": [
       "HBox(children=(FloatProgress(value=1.0, bar_style='info', description='Validating', layout=Layout(flex='2'), m…"
      ]
     },
     "metadata": {},
     "output_type": "display_data"
    },
    {
     "data": {
      "application/vnd.jupyter.widget-view+json": {
       "model_id": "",
       "version_major": 2,
       "version_minor": 0
      },
      "text/plain": [
       "HBox(children=(FloatProgress(value=1.0, bar_style='info', description='Validating', layout=Layout(flex='2'), m…"
      ]
     },
     "metadata": {},
     "output_type": "display_data"
    },
    {
     "data": {
      "application/vnd.jupyter.widget-view+json": {
       "model_id": "",
       "version_major": 2,
       "version_minor": 0
      },
      "text/plain": [
       "HBox(children=(FloatProgress(value=1.0, bar_style='info', description='Validating', layout=Layout(flex='2'), m…"
      ]
     },
     "metadata": {},
     "output_type": "display_data"
    },
    {
     "name": "stderr",
     "output_type": "stream",
     "text": [
      "Saving latest checkpoint...\n"
     ]
    },
    {
     "name": "stdout",
     "output_type": "stream",
     "text": [
      "\n"
     ]
    }
   ],
   "source": [
    "model = ModelHazard('cox')\n",
    "model.fit(df)"
   ]
  },
  {
   "cell_type": "code",
   "execution_count": null,
   "metadata": {},
   "outputs": [],
   "source": [
    "# %reload_ext tensorboard\n",
    "# %tensorboard --logdir ./lightning_logs/"
   ]
  },
  {
   "cell_type": "code",
   "execution_count": null,
   "metadata": {},
   "outputs": [
    {
     "data": {
      "text/plain": [
       "((432, 9), torch.Size([432, 1]), torch.Size([432, 1]))"
      ]
     },
     "execution_count": null,
     "metadata": {},
     "output_type": "execute_result"
    }
   ],
   "source": [
    "λ, Λ = model.predict(df)\n",
    "df.shape, λ.shape, Λ.shape"
   ]
  },
  {
   "cell_type": "markdown",
   "metadata": {},
   "source": [
    "## Modelling Distribution with [AFT](./AFT_models) models"
   ]
  },
  {
   "cell_type": "code",
   "execution_count": null,
   "metadata": {},
   "outputs": [],
   "source": [
    "# export\n",
    "from torchlife.models.error_dist import *\n",
    "\n",
    "class ModelAFT:\n",
    "    \"\"\"\n",
    "    Modelling error distribution given inputs x.\n",
    "    parameters:\n",
    "    - dist(str): Univariate distribution of error\n",
    "    - h: list of hidden units (disregarding input units)\n",
    "    - bs: batch size\n",
    "    - epochs: epochs\n",
    "    - lr: learning rate\n",
    "    - beta: l2 penalty on weights\n",
    "    \"\"\"\n",
    "    def __init__(self, dist:str, h:tuple=(),\n",
    "                 bs:int=128, epochs:int=20, lr:float=0.1, beta:float=0):\n",
    "        self.dist = dist\n",
    "        self.loss_fn = AFTLoss()\n",
    "        self.h = h\n",
    "        self.bs, self.epochs, self.lr, self.beta = bs, epochs, lr, beta\n",
    "        \n",
    "    def fit(self, df):\n",
    "        train_dl, valid_dl, self.t_scaler, self.x_scaler = create_dl(df)\n",
    "        dim = df.shape[1] - 2\n",
    "        aft_model = AFTModel(self.dist, dim, self.h)\n",
    "        self.model = GeneralModel(\n",
    "            aft_model,\n",
    "            self.loss_fn,\n",
    "            self.lr\n",
    "        )\n",
    "        \n",
    "        train_model(self.model, train_dl, valid_dl, self.epochs)\n",
    "            \n",
    "    def predict(self, df):\n",
    "        \"\"\"\n",
    "        Predicts the survival probability\n",
    "        \"\"\"\n",
    "        test_dl = create_test_dl(df)\n",
    "        with torch.no_grad():\n",
    "            self.model.eval()\n",
    "            Λ = []\n",
    "            for x in test_dl:\n",
    "                _, logΛ = self.model(x)\n",
    "                Λ.append(torch.exp(logΛ))\n",
    "            return torch.cat(Λ).cpu().numpy()\n",
    "        \n",
    "    def predict_time(self, df):\n",
    "        \"\"\"\n",
    "        Predicts the mode (not average) time expected for instance.\n",
    "        \"\"\"\n",
    "        if \"t\" not in df.columns:\n",
    "            df[\"t\"] = 0\n",
    "        test_dl = create_test_dl(df)\n",
    "        with torch.no_grad():\n",
    "            self.model.eval()\n",
    "            μ = []\n",
    "            for _, x in test_dl:\n",
    "                logμ, _ = self.model.base.get_mode_time(x)\n",
    "                μ.append(torch.exp(logμ))\n",
    "            return self.t_scaler.inverse_transform(torch.cat(μ).cpu().numpy())\n",
    "        \n",
    "    def plot_survival(self, t, x):\n",
    "        self.model.plot_survival_function(t, self.t_scaler, x, self.x_scaler)"
   ]
  },
  {
   "cell_type": "code",
   "execution_count": null,
   "metadata": {},
   "outputs": [
    {
     "name": "stderr",
     "output_type": "stream",
     "text": [
      "GPU available: False, used: False\n",
      "TPU available: None, using: 0 TPU cores\n",
      "\n",
      "  | Name | Type     | Params\n",
      "----------------------------------\n",
      "0 | base | AFTModel | 9     \n",
      "----------------------------------\n",
      "9         Trainable params\n",
      "0         Non-trainable params\n",
      "9         Total params\n"
     ]
    },
    {
     "data": {
      "application/vnd.jupyter.widget-view+json": {
       "model_id": "",
       "version_major": 2,
       "version_minor": 0
      },
      "text/plain": [
       "HBox(children=(FloatProgress(value=1.0, bar_style='info', description='Validation sanity check', layout=Layout…"
      ]
     },
     "metadata": {},
     "output_type": "display_data"
    },
    {
     "name": "stdout",
     "output_type": "stream",
     "text": [
      "\r"
     ]
    },
    {
     "data": {
      "application/vnd.jupyter.widget-view+json": {
       "model_id": "183444e82e8b4e36a549fed4f2017239",
       "version_major": 2,
       "version_minor": 0
      },
      "text/plain": [
       "HBox(children=(FloatProgress(value=1.0, bar_style='info', description='Training', layout=Layout(flex='2'), max…"
      ]
     },
     "metadata": {},
     "output_type": "display_data"
    },
    {
     "name": "stderr",
     "output_type": "stream",
     "text": [
      "/Users/sachinthaka/opt/miniconda3/lib/python3.7/site-packages/pytorch_lightning/utilities/distributed.py:49: UserWarning: training_step returned None if it was on purpose, ignore this warning...\n",
      "  warnings.warn(*args, **kwargs)\n"
     ]
    },
    {
     "data": {
      "application/vnd.jupyter.widget-view+json": {
       "model_id": "",
       "version_major": 2,
       "version_minor": 0
      },
      "text/plain": [
       "HBox(children=(FloatProgress(value=1.0, bar_style='info', description='Validating', layout=Layout(flex='2'), m…"
      ]
     },
     "metadata": {},
     "output_type": "display_data"
    },
    {
     "data": {
      "application/vnd.jupyter.widget-view+json": {
       "model_id": "",
       "version_major": 2,
       "version_minor": 0
      },
      "text/plain": [
       "HBox(children=(FloatProgress(value=1.0, bar_style='info', description='Validating', layout=Layout(flex='2'), m…"
      ]
     },
     "metadata": {},
     "output_type": "display_data"
    },
    {
     "data": {
      "application/vnd.jupyter.widget-view+json": {
       "model_id": "",
       "version_major": 2,
       "version_minor": 0
      },
      "text/plain": [
       "HBox(children=(FloatProgress(value=1.0, bar_style='info', description='Validating', layout=Layout(flex='2'), m…"
      ]
     },
     "metadata": {},
     "output_type": "display_data"
    },
    {
     "data": {
      "application/vnd.jupyter.widget-view+json": {
       "model_id": "",
       "version_major": 2,
       "version_minor": 0
      },
      "text/plain": [
       "HBox(children=(FloatProgress(value=1.0, bar_style='info', description='Validating', layout=Layout(flex='2'), m…"
      ]
     },
     "metadata": {},
     "output_type": "display_data"
    },
    {
     "name": "stderr",
     "output_type": "stream",
     "text": [
      "Saving latest checkpoint...\n"
     ]
    },
    {
     "name": "stdout",
     "output_type": "stream",
     "text": [
      "\n"
     ]
    }
   ],
   "source": [
    "model = ModelAFT('Gumbel')\n",
    "model.fit(df)"
   ]
  },
  {
   "cell_type": "code",
   "execution_count": null,
   "metadata": {},
   "outputs": [],
   "source": [
    "surv_prob = model.predict(df)\n",
    "mode_time = model.predict_time(df)"
   ]
  },
  {
   "cell_type": "code",
   "execution_count": null,
   "metadata": {},
   "outputs": [
    {
     "data": {
      "text/html": [
       "<div>\n",
       "<style scoped>\n",
       "    .dataframe tbody tr th:only-of-type {\n",
       "        vertical-align: middle;\n",
       "    }\n",
       "\n",
       "    .dataframe tbody tr th {\n",
       "        vertical-align: top;\n",
       "    }\n",
       "\n",
       "    .dataframe thead th {\n",
       "        text-align: right;\n",
       "    }\n",
       "</style>\n",
       "<table border=\"1\" class=\"dataframe\">\n",
       "  <thead>\n",
       "    <tr style=\"text-align: right;\">\n",
       "      <th></th>\n",
       "      <th>t</th>\n",
       "      <th>e</th>\n",
       "      <th>fin</th>\n",
       "      <th>age</th>\n",
       "      <th>race</th>\n",
       "      <th>wexp</th>\n",
       "      <th>mar</th>\n",
       "      <th>paro</th>\n",
       "      <th>prio</th>\n",
       "      <th>surv_prob</th>\n",
       "      <th>mode_time</th>\n",
       "    </tr>\n",
       "  </thead>\n",
       "  <tbody>\n",
       "    <tr>\n",
       "      <th>0</th>\n",
       "      <td>20</td>\n",
       "      <td>1</td>\n",
       "      <td>0</td>\n",
       "      <td>27</td>\n",
       "      <td>1</td>\n",
       "      <td>0</td>\n",
       "      <td>0</td>\n",
       "      <td>1</td>\n",
       "      <td>3</td>\n",
       "      <td>0.709048</td>\n",
       "      <td>24.123699</td>\n",
       "    </tr>\n",
       "    <tr>\n",
       "      <th>1</th>\n",
       "      <td>17</td>\n",
       "      <td>1</td>\n",
       "      <td>0</td>\n",
       "      <td>18</td>\n",
       "      <td>1</td>\n",
       "      <td>0</td>\n",
       "      <td>0</td>\n",
       "      <td>1</td>\n",
       "      <td>8</td>\n",
       "      <td>0.901403</td>\n",
       "      <td>35.893150</td>\n",
       "    </tr>\n",
       "    <tr>\n",
       "      <th>2</th>\n",
       "      <td>25</td>\n",
       "      <td>1</td>\n",
       "      <td>0</td>\n",
       "      <td>19</td>\n",
       "      <td>0</td>\n",
       "      <td>1</td>\n",
       "      <td>0</td>\n",
       "      <td>1</td>\n",
       "      <td>13</td>\n",
       "      <td>0.408421</td>\n",
       "      <td>14.092414</td>\n",
       "    </tr>\n",
       "    <tr>\n",
       "      <th>3</th>\n",
       "      <td>52</td>\n",
       "      <td>0</td>\n",
       "      <td>1</td>\n",
       "      <td>23</td>\n",
       "      <td>1</td>\n",
       "      <td>1</td>\n",
       "      <td>1</td>\n",
       "      <td>1</td>\n",
       "      <td>1</td>\n",
       "      <td>0.344179</td>\n",
       "      <td>24.131750</td>\n",
       "    </tr>\n",
       "    <tr>\n",
       "      <th>4</th>\n",
       "      <td>52</td>\n",
       "      <td>0</td>\n",
       "      <td>0</td>\n",
       "      <td>19</td>\n",
       "      <td>0</td>\n",
       "      <td>1</td>\n",
       "      <td>0</td>\n",
       "      <td>1</td>\n",
       "      <td>3</td>\n",
       "      <td>0.262780</td>\n",
       "      <td>18.076330</td>\n",
       "    </tr>\n",
       "    <tr>\n",
       "      <th>...</th>\n",
       "      <td>...</td>\n",
       "      <td>...</td>\n",
       "      <td>...</td>\n",
       "      <td>...</td>\n",
       "      <td>...</td>\n",
       "      <td>...</td>\n",
       "      <td>...</td>\n",
       "      <td>...</td>\n",
       "      <td>...</td>\n",
       "      <td>...</td>\n",
       "      <td>...</td>\n",
       "    </tr>\n",
       "    <tr>\n",
       "      <th>427</th>\n",
       "      <td>52</td>\n",
       "      <td>0</td>\n",
       "      <td>1</td>\n",
       "      <td>31</td>\n",
       "      <td>0</td>\n",
       "      <td>1</td>\n",
       "      <td>0</td>\n",
       "      <td>1</td>\n",
       "      <td>3</td>\n",
       "      <td>0.148387</td>\n",
       "      <td>10.222347</td>\n",
       "    </tr>\n",
       "    <tr>\n",
       "      <th>428</th>\n",
       "      <td>52</td>\n",
       "      <td>0</td>\n",
       "      <td>0</td>\n",
       "      <td>20</td>\n",
       "      <td>1</td>\n",
       "      <td>0</td>\n",
       "      <td>0</td>\n",
       "      <td>1</td>\n",
       "      <td>1</td>\n",
       "      <td>0.505326</td>\n",
       "      <td>38.048428</td>\n",
       "    </tr>\n",
       "    <tr>\n",
       "      <th>429</th>\n",
       "      <td>52</td>\n",
       "      <td>0</td>\n",
       "      <td>1</td>\n",
       "      <td>20</td>\n",
       "      <td>1</td>\n",
       "      <td>1</td>\n",
       "      <td>1</td>\n",
       "      <td>1</td>\n",
       "      <td>1</td>\n",
       "      <td>0.401292</td>\n",
       "      <td>28.716543</td>\n",
       "    </tr>\n",
       "    <tr>\n",
       "      <th>430</th>\n",
       "      <td>52</td>\n",
       "      <td>0</td>\n",
       "      <td>0</td>\n",
       "      <td>29</td>\n",
       "      <td>1</td>\n",
       "      <td>1</td>\n",
       "      <td>0</td>\n",
       "      <td>1</td>\n",
       "      <td>3</td>\n",
       "      <td>0.176507</td>\n",
       "      <td>12.102779</td>\n",
       "    </tr>\n",
       "    <tr>\n",
       "      <th>431</th>\n",
       "      <td>52</td>\n",
       "      <td>0</td>\n",
       "      <td>1</td>\n",
       "      <td>24</td>\n",
       "      <td>1</td>\n",
       "      <td>1</td>\n",
       "      <td>0</td>\n",
       "      <td>1</td>\n",
       "      <td>1</td>\n",
       "      <td>0.279434</td>\n",
       "      <td>19.276564</td>\n",
       "    </tr>\n",
       "  </tbody>\n",
       "</table>\n",
       "<p>432 rows × 11 columns</p>\n",
       "</div>"
      ],
      "text/plain": [
       "      t  e  fin  age  race  wexp  mar  paro  prio  surv_prob  mode_time\n",
       "0    20  1    0   27     1     0    0     1     3   0.709048  24.123699\n",
       "1    17  1    0   18     1     0    0     1     8   0.901403  35.893150\n",
       "2    25  1    0   19     0     1    0     1    13   0.408421  14.092414\n",
       "3    52  0    1   23     1     1    1     1     1   0.344179  24.131750\n",
       "4    52  0    0   19     0     1    0     1     3   0.262780  18.076330\n",
       "..   .. ..  ...  ...   ...   ...  ...   ...   ...        ...        ...\n",
       "427  52  0    1   31     0     1    0     1     3   0.148387  10.222347\n",
       "428  52  0    0   20     1     0    0     1     1   0.505326  38.048428\n",
       "429  52  0    1   20     1     1    1     1     1   0.401292  28.716543\n",
       "430  52  0    0   29     1     1    0     1     3   0.176507  12.102779\n",
       "431  52  0    1   24     1     1    0     1     1   0.279434  19.276564\n",
       "\n",
       "[432 rows x 11 columns]"
      ]
     },
     "execution_count": null,
     "metadata": {},
     "output_type": "execute_result"
    }
   ],
   "source": [
    "df[\"surv_prob\"] = surv_prob\n",
    "df[\"mode_time\"] = mode_time\n",
    "df"
   ]
  },
  {
   "cell_type": "code",
   "execution_count": null,
   "metadata": {},
   "outputs": [
    {
     "data": {
      "image/png": "[encoded data removed]",
      "text/plain": [
       "<Figure size 432x288 with 1 Axes>"
      ]
     },
     "metadata": {
      "needs_background": "light"
     },
     "output_type": "display_data"
    }
   ],
   "source": [
    "plt.hist(df[df[\"e\"] == 1][\"surv_prob\"].values, bins=30, alpha=0.5, density=True, label=\"death\")\n",
    "plt.hist(df[df[\"e\"] == 0][\"surv_prob\"].values, bins=30, alpha=0.5, density=True, label=\"censored\")\n",
    "plt.legend()\n",
    "plt.show()"
   ]
  },
  {
   "cell_type": "code",
   "execution_count": null,
   "metadata": {},
   "outputs": [],
   "source": [
    "# %reload_ext tensorboard\n",
    "# %tensorboard --logdir ./lightning_logs/"
   ]
  },
  {
   "cell_type": "code",
   "execution_count": null,
   "metadata": {},
   "outputs": [
    {
     "name": "stdout",
     "output_type": "stream",
     "text": [
      "Converted 00_index.ipynb.\n",
      "Converted 10_SAT.ipynb.\n",
      "Converted 20_KaplanMeier.ipynb.\n",
      "Converted 30_overall_model.ipynb.\n",
      "Converted 50_hazard.ipynb.\n",
      "Converted 55_hazard.PiecewiseHazard.ipynb.\n",
      "Converted 59_hazard.Cox.ipynb.\n",
      "Converted 60_AFT_models.ipynb.\n",
      "Converted 65_AFT_error_distributions.ipynb.\n",
      "Converted 80_data.ipynb.\n",
      "Converted 90_model.ipynb.\n",
      "Converted 95_Losses.ipynb.\n"
     ]
    }
   ],
   "source": [
    "# hide\n",
    "from nbdev.export import *\n",
    "notebook2script()"
   ]
  },
  {
   "cell_type": "code",
   "execution_count": null,
   "metadata": {},
   "outputs": [],
   "source": []
  }
 ],
 "metadata": {
  "kernelspec": {
   "display_name": "Python 3",
   "language": "python",
   "name": "python3"
  }
 },
 "nbformat": 4,
 "nbformat_minor": 4
}
