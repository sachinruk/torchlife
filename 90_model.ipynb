{
 "cells": [
  {
   "cell_type": "code",
   "execution_count": null,
   "metadata": {},
   "outputs": [],
   "source": [
    "#default_exp model"
   ]
  },
  {
   "cell_type": "markdown",
   "metadata": {},
   "source": [
    "# Base Model\n",
    "> This class contains the base which is used to train data upon."
   ]
  },
  {
   "cell_type": "code",
   "execution_count": null,
   "metadata": {},
   "outputs": [],
   "source": [
    "# hide\n",
    "%load_ext autoreload\n",
    "%autoreload 2\n",
    "%matplotlib inline"
   ]
  },
  {
   "cell_type": "code",
   "execution_count": null,
   "metadata": {},
   "outputs": [],
   "source": [
    "# export\n",
    "from dataclasses import dataclass\n",
    "from datetime import datetime\n",
    "from typing import Callable, List, Optional, Tuple\n",
    "\n",
    "import pandas as pd\n",
    "import pytorch_lightning as pl\n",
    "from pytorch_lightning.callbacks import EarlyStopping, ModelCheckpoint\n",
    "import torch\n",
    "import torch.nn as nn\n",
    "import torch.nn.functional as F\n",
    "from torch.optim.lr_scheduler import ReduceLROnPlateau\n",
    "\n",
    "from torchlife.models.ph import PieceWiseHazard\n",
    "from torchlife.models.cox import ProportionalHazard\n",
    "from torchlife.models.aft import AFTModel\n",
    "from torchlife.data import create_dl, create_test_dl, get_breakpoints\n",
    "from torchlife.losses import aft_loss, hazard_loss, Loss, HazardLoss, AFTLoss"
   ]
  },
  {
   "cell_type": "code",
   "execution_count": null,
   "metadata": {},
   "outputs": [],
   "source": [
    "# hide\n",
    "import matplotlib.pyplot as plt\n",
    "%matplotlib inline"
   ]
  },
  {
   "cell_type": "markdown",
   "metadata": {},
   "source": [
    "## General Model"
   ]
  },
  {
   "cell_type": "code",
   "execution_count": null,
   "metadata": {},
   "outputs": [],
   "source": [
    "# export\n",
    "class GeneralModel(pl.LightningModule):\n",
    "    def __init__(\n",
    "        self,\n",
    "        base: nn.Module,\n",
    "        loss_fn: Loss,\n",
    "        lr: float = 1e-3,\n",
    "    ) -> None:\n",
    "        \"\"\"\n",
    "        n_features: The number of real valued feature.\n",
    "        n_layers: Number of Deep learning layers.\n",
    "        loss_fn: Loss function.\n",
    "        n_cats: List of integers containing the number of unique values per category.\n",
    "        \"\"\"\n",
    "        super().__init__()\n",
    "        self.base = base\n",
    "        self.loss_fn = loss_fn\n",
    "        self.lr = lr\n",
    "        \n",
    "    def forward(self, x):\n",
    "        return self.base(*x)\n",
    "    \n",
    "    def common_step(\n",
    "        self, batch: Tuple[torch.Tensor, torch.Tensor, torch.Tensor]\n",
    "    ) -> Tuple[torch.Tensor, torch.Tensor, torch.LongTensor]:\n",
    "        x, e = batch\n",
    "        density_term, cumulative_term = self(x)\n",
    "        loss = self.loss_fn(e.squeeze(), density_term.squeeze(), cumulative_term.squeeze())\n",
    "        \n",
    "        if torch.isnan(loss):\n",
    "            breakpoint()\n",
    "        return loss\n",
    "    \n",
    "    def training_step(self, batch, *args):\n",
    "        loss = self.common_step(batch)\n",
    "        self.log(\"training_loss\", loss, on_step=True, on_epoch=True)\n",
    "    \n",
    "    def validation_step(self, batch, *args):\n",
    "        loss = self.common_step(batch)\n",
    "        self.log(\"val_loss\", loss, on_step=True, on_epoch=True)\n",
    "        \n",
    "    def configure_optimizers(self):\n",
    "        optimizer = torch.optim.Adam(self.parameters(), lr=self.lr)\n",
    "        return {\n",
    "            \"optimizer\": optimizer,\n",
    "            \"lr_scheduler\": ReduceLROnPlateau(optimizer, patience=2),\n",
    "            \"monitor\": \"val_loss\"\n",
    "        }"
   ]
  },
  {
   "cell_type": "code",
   "execution_count": null,
   "metadata": {},
   "outputs": [],
   "source": [
    "# export\n",
    "def train_model(model, train_dl, valid_dl, epochs):\n",
    "    checkpoint_callback = ModelCheckpoint(\n",
    "        monitor=\"val_loss\",\n",
    "        dirpath=\"./models/\",\n",
    "        filename= \"model-{epoch:02d}-{val_loss:.2f}\",\n",
    "        save_last=True,\n",
    "    )\n",
    "    early_stopping = EarlyStopping(\"val_loss\")\n",
    "\n",
    "    trainer = pl.Trainer(\n",
    "        max_epochs=epochs,\n",
    "        gpus=torch.cuda.device_count(),\n",
    "        callbacks=[early_stopping, checkpoint_callback]\n",
    "    )\n",
    "    trainer.fit(model, train_dl, valid_dl)"
   ]
  },
  {
   "cell_type": "markdown",
   "metadata": {},
   "source": [
    "## Data for Demo"
   ]
  },
  {
   "cell_type": "code",
   "execution_count": null,
   "metadata": {},
   "outputs": [],
   "source": [
    "# hide\n",
    "import pandas as pd\n",
    "import numpy as np\n",
    "url = \"https://raw.githubusercontent.com/CamDavidsonPilon/lifelines/master/lifelines/datasets/rossi.csv\"\n",
    "df = pd.read_csv(url)\n",
    "df.rename(columns={'week':'t', 'arrest':'e'}, inplace=True)"
   ]
  },
  {
   "cell_type": "code",
   "execution_count": null,
   "metadata": {},
   "outputs": [
    {
     "name": "stdout",
     "output_type": "stream",
     "text": [
      "(432, 9)\n"
     ]
    },
    {
     "data": {
      "text/html": "<div>\n<style scoped>\n    .dataframe tbody tr th:only-of-type {\n        vertical-align: middle;\n    }\n\n    .dataframe tbody tr th {\n        vertical-align: top;\n    }\n\n    .dataframe thead th {\n        text-align: right;\n    }\n</style>\n<table border=\"1\" class=\"dataframe\">\n  <thead>\n    <tr style=\"text-align: right;\">\n      <th></th>\n      <th>t</th>\n      <th>e</th>\n      <th>fin</th>\n      <th>age</th>\n      <th>race</th>\n      <th>wexp</th>\n      <th>mar</th>\n      <th>paro</th>\n      <th>prio</th>\n    </tr>\n  </thead>\n  <tbody>\n    <tr>\n      <th>0</th>\n      <td>20</td>\n      <td>1</td>\n      <td>0</td>\n      <td>27</td>\n      <td>1</td>\n      <td>0</td>\n      <td>0</td>\n      <td>1</td>\n      <td>3</td>\n    </tr>\n    <tr>\n      <th>1</th>\n      <td>17</td>\n      <td>1</td>\n      <td>0</td>\n      <td>18</td>\n      <td>1</td>\n      <td>0</td>\n      <td>0</td>\n      <td>1</td>\n      <td>8</td>\n    </tr>\n    <tr>\n      <th>2</th>\n      <td>25</td>\n      <td>1</td>\n      <td>0</td>\n      <td>19</td>\n      <td>0</td>\n      <td>1</td>\n      <td>0</td>\n      <td>1</td>\n      <td>13</td>\n    </tr>\n    <tr>\n      <th>3</th>\n      <td>52</td>\n      <td>0</td>\n      <td>1</td>\n      <td>23</td>\n      <td>1</td>\n      <td>1</td>\n      <td>1</td>\n      <td>1</td>\n      <td>1</td>\n    </tr>\n    <tr>\n      <th>4</th>\n      <td>52</td>\n      <td>0</td>\n      <td>0</td>\n      <td>19</td>\n      <td>0</td>\n      <td>1</td>\n      <td>0</td>\n      <td>1</td>\n      <td>3</td>\n    </tr>\n  </tbody>\n</table>\n</div>",
      "text/plain": [
       "    t  e  fin  age  race  wexp  mar  paro  prio\n",
       "0  20  1    0   27     1     0    0     1     3\n",
       "1  17  1    0   18     1     0    0     1     8\n",
       "2  25  1    0   19     0     1    0     1    13\n",
       "3  52  0    1   23     1     1    1     1     1\n",
       "4  52  0    0   19     0     1    0     1     3"
      ]
     },
     "execution_count": null,
     "metadata": {},
     "output_type": "execute_result"
    }
   ],
   "source": [
    "print(df.shape)\n",
    "df.head()"
   ]
  },
  {
   "cell_type": "markdown",
   "metadata": {},
   "source": [
    "## Hazard Model"
   ]
  },
  {
   "cell_type": "code",
   "execution_count": null,
   "metadata": {},
   "outputs": [],
   "source": [
    "# export\n",
    "_text2model_ = {\n",
    "    'ph': PieceWiseHazard,\n",
    "    'cox': ProportionalHazard\n",
    "}\n",
    "\n",
    "class ModelHazard:\n",
    "    \"\"\"\n",
    "    Modelling instantaneous hazard (λ).\n",
    "    parameters:\n",
    "    - model(str): ['ph'|'cox'] which maps to Piecewise Hazard, Cox Proportional Hazard.\n",
    "    - percentiles: list of time percentiles at which time should be broken\n",
    "    - h: list of hidden units (disregarding input units)\n",
    "    - bs: batch size\n",
    "    - epochs: epochs\n",
    "    - lr: learning rate\n",
    "    - beta: l2 penalty on weights\n",
    "    \"\"\"\n",
    "    def __init__(self, model:str, percentiles=[20, 40, 60, 80], h:tuple=(),\n",
    "                 bs:int=128, epochs:int=20, lr:float=1.0, beta:float=0):\n",
    "        self.base_model = _text2model_[model]\n",
    "        self.percentiles = percentiles\n",
    "        self.loss_fn = HazardLoss()\n",
    "        self.h = h\n",
    "        self.bs, self.epochs, self.lr, self.beta = bs, epochs, lr, beta\n",
    "        \n",
    "    def fit(self, df):\n",
    "        breakpoints = get_breakpoints(df, self.percentiles)\n",
    "        train_dl, valid_dl, t_scaler, x_scaler = create_dl(df, breakpoints)\n",
    "        dim = df.shape[1] - 2\n",
    "        assert dim > 0, ValueError(\"dimensions of x input needs to be >0. Choose ph instead\")\n",
    "\n",
    "        model_args = {\n",
    "            'breakpoints': breakpoints, \n",
    "            't_scaler': t_scaler, \n",
    "            'x_scaler': x_scaler, \n",
    "            'h': self.h, \n",
    "            'dim': dim\n",
    "        }\n",
    "        self.model = GeneralModel(\n",
    "            self.base_model(**model_args),\n",
    "            self.loss_fn,\n",
    "            self.lr\n",
    "        )\n",
    "        \n",
    "        self.breakpoints = breakpoints\n",
    "        self.t_scaler = t_scaler\n",
    "        self.x_scaler = x_scaler\n",
    "        train_model(self.model, train_dl, valid_dl, self.epochs)\n",
    "            \n",
    "    def predict(self, df):\n",
    "        test_dl = create_test_dl(df, self.breakpoints, self.t_scaler, self.x_scaler)\n",
    "        with torch.no_grad():\n",
    "            self.model.eval()\n",
    "            λ, S = [], []\n",
    "            for x in test_dl:\n",
    "                preds = self.model(x)\n",
    "                λ.append(torch.exp(preds[0]))\n",
    "                S.append(torch.exp(-preds[1]))\n",
    "            return torch.cat(λ), torch.cat(S)\n",
    "        \n",
    "    def plot_survival_function(self, *args):\n",
    "        self.model.base.plot_survival_function(*args)"
   ]
  },
  {
   "cell_type": "markdown",
   "metadata": {},
   "source": [
    "## Cox Model Demo"
   ]
  },
  {
   "cell_type": "code",
   "execution_count": null,
   "metadata": {},
   "outputs": [
    {
     "name": "stderr",
     "output_type": "stream",
     "text": [
      "GPU available: False, used: False\n",
      "TPU available: None, using: 0 TPU cores\n",
      "\n",
      "  | Name | Type               | Params\n",
      "--------------------------------------------\n",
      "0 | base | ProportionalHazard | 12    \n",
      "--------------------------------------------\n",
      "12        Trainable params\n",
      "0         Non-trainable params\n",
      "12        Total params\n",
      "Epoch 0:  75%|███████▌  | 3/4 [00:00<00:00, 21.84it/s, loss=nan, v_num=47]\n",
      "Validating: 0it [00:00, ?it/s]\u001b[A\n",
      "Epoch 0: 100%|██████████| 4/4 [00:00<00:00, 13.67it/s, loss=nan, v_num=47]\n",
      "Epoch 1:  75%|███████▌  | 3/4 [00:00<00:00, 20.65it/s, loss=nan, v_num=47]\n",
      "Validating: 0it [00:00, ?it/s]\u001b[A\n",
      "Epoch 1: 100%|██████████| 4/4 [00:00<00:00, 13.37it/s, loss=nan, v_num=47]\n",
      "Epoch 2:  75%|███████▌  | 3/4 [00:00<00:00, 21.48it/s, loss=nan, v_num=47]\n",
      "Validating: 0it [00:00, ?it/s]\u001b[A\n",
      "Epoch 2: 100%|██████████| 4/4 [00:00<00:00, 13.82it/s, loss=nan, v_num=47]\n",
      "Epoch 3:  75%|███████▌  | 3/4 [00:00<00:00, 20.85it/s, loss=nan, v_num=47]\n",
      "Validating: 0it [00:00, ?it/s]\u001b[A\n",
      "Epoch 3: 100%|██████████| 4/4 [00:00<00:00, 13.30it/s, loss=nan, v_num=47]\n",
      "                                                         \u001b[ASaving latest checkpoint...\n",
      "Epoch 3: 100%|██████████| 4/4 [00:00<00:00, 12.95it/s, loss=nan, v_num=47]\n"
     ]
    }
   ],
   "source": [
    "model = ModelHazard('cox')\n",
    "model.fit(df)"
   ]
  },
  {
   "cell_type": "code",
   "execution_count": null,
   "metadata": {},
   "outputs": [],
   "source": [
    "# %reload_ext tensorboard\n",
    "# %tensorboard --logdir ./lightning_logs/"
   ]
  },
  {
   "cell_type": "code",
   "execution_count": null,
   "metadata": {},
   "outputs": [
    {
     "data": {
      "text/plain": [
       "((432, 9), torch.Size([432, 1]), torch.Size([432, 1]))"
      ]
     },
     "execution_count": null,
     "metadata": {},
     "output_type": "execute_result"
    }
   ],
   "source": [
    "λ, Λ = model.predict(df)\n",
    "df.shape, λ.shape, Λ.shape"
   ]
  },
  {
   "cell_type": "markdown",
   "metadata": {},
   "source": [
    "## Modelling Distribution with [AFT](./AFT_models) models"
   ]
  },
  {
   "cell_type": "code",
   "execution_count": null,
   "metadata": {},
   "outputs": [],
   "source": [
    "# export\n",
    "from torchlife.models.error_dist import *\n",
    "\n",
    "class ModelAFT:\n",
    "    \"\"\"\n",
    "    Modelling error distribution given inputs x.\n",
    "    parameters:\n",
    "    - dist(str): Univariate distribution of error\n",
    "    - h: list of hidden units (disregarding input units)\n",
    "    - bs: batch size\n",
    "    - epochs: epochs\n",
    "    - lr: learning rate\n",
    "    - beta: l2 penalty on weights\n",
    "    \"\"\"\n",
    "    def __init__(self, dist:str, h:tuple=(),\n",
    "                 bs:int=128, epochs:int=20, lr:float=0.1, beta:float=0):\n",
    "        self.dist = dist\n",
    "        self.loss_fn = AFTLoss()\n",
    "        self.h = h\n",
    "        self.bs, self.epochs, self.lr, self.beta = bs, epochs, lr, beta\n",
    "        \n",
    "    def fit(self, df):\n",
    "        train_dl, valid_dl, self.t_scaler, self.x_scaler = create_dl(df)\n",
    "        dim = df.shape[1] - 2\n",
    "        aft_model = AFTModel(self.dist, dim, self.h)\n",
    "        self.model = GeneralModel(\n",
    "            aft_model,\n",
    "            self.loss_fn,\n",
    "            self.lr\n",
    "        )\n",
    "        \n",
    "        train_model(self.model, train_dl, valid_dl, self.epochs)\n",
    "            \n",
    "    def predict(self, df):\n",
    "        \"\"\"\n",
    "        Predicts the survival probability\n",
    "        \"\"\"\n",
    "        test_dl = create_test_dl(df)\n",
    "        with torch.no_grad():\n",
    "            self.model.eval()\n",
    "            Λ = []\n",
    "            for x in test_dl:\n",
    "                _, logΛ = self.model(x)\n",
    "                Λ.append(torch.exp(logΛ))\n",
    "            return torch.cat(Λ).cpu().numpy()\n",
    "        \n",
    "    def predict_time(self, df):\n",
    "        \"\"\"\n",
    "        Predicts the mode (not average) time expected for instance.\n",
    "        \"\"\"\n",
    "        if \"t\" not in df.columns:\n",
    "            df[\"t\"] = 0\n",
    "        test_dl = create_test_dl(df)\n",
    "        with torch.no_grad():\n",
    "            self.model.eval()\n",
    "            μ = []\n",
    "            for _, x in test_dl:\n",
    "                logμ, _ = self.model.base.get_mode_time(x)\n",
    "                μ.append(torch.exp(logμ))\n",
    "            return self.t_scaler.inverse_transform(torch.cat(μ).cpu().numpy())\n",
    "        \n",
    "    def plot_survival(self, t, x):\n",
    "        self.model.plot_survival_function(t, self.t_scaler, x, self.x_scaler)"
   ]
  },
  {
   "cell_type": "code",
   "execution_count": null,
   "metadata": {},
   "outputs": [
    {
     "name": "stderr",
     "output_type": "stream",
     "text": [
      "GPU available: False, used: False\n",
      "TPU available: None, using: 0 TPU cores\n",
      "\n",
      "  | Name | Type     | Params\n",
      "----------------------------------\n",
      "0 | base | AFTModel | 9     \n",
      "----------------------------------\n",
      "9         Trainable params\n",
      "0         Non-trainable params\n",
      "9         Total params\n",
      "Epoch 0:  75%|███████▌  | 3/4 [00:00<00:00, 18.74it/s, loss=nan, v_num=48]\n",
      "Validating: 0it [00:00, ?it/s]\u001b[A\n",
      "Epoch 0: 100%|██████████| 4/4 [00:00<00:00, 12.84it/s, loss=nan, v_num=48]\n",
      "Epoch 1:  75%|███████▌  | 3/4 [00:00<00:00, 19.59it/s, loss=nan, v_num=48]\n",
      "Validating: 0it [00:00, ?it/s]\u001b[A\n",
      "Epoch 1: 100%|██████████| 4/4 [00:00<00:00, 13.26it/s, loss=nan, v_num=48]\n",
      "Epoch 2:  75%|███████▌  | 3/4 [00:00<00:00, 20.76it/s, loss=nan, v_num=48]\n",
      "Validating: 0it [00:00, ?it/s]\u001b[A\n",
      "Epoch 2: 100%|██████████| 4/4 [00:00<00:00, 13.38it/s, loss=nan, v_num=48]\n",
      "Epoch 3:  75%|███████▌  | 3/4 [00:00<00:00, 20.85it/s, loss=nan, v_num=48]\n",
      "Validating: 0it [00:00, ?it/s]\u001b[A\n",
      "Epoch 3: 100%|██████████| 4/4 [00:00<00:00, 13.83it/s, loss=nan, v_num=48]\n",
      "                                                         \u001b[ASaving latest checkpoint...\n",
      "Epoch 3: 100%|██████████| 4/4 [00:00<00:00, 13.50it/s, loss=nan, v_num=48]\n"
     ]
    }
   ],
   "source": [
    "model = ModelAFT('Gumbel')\n",
    "model.fit(df)"
   ]
  },
  {
   "cell_type": "code",
   "execution_count": null,
   "metadata": {},
   "outputs": [],
   "source": [
    "surv_prob = model.predict(df)\n",
    "mode_time = model.predict_time(df)"
   ]
  },
  {
   "cell_type": "code",
   "execution_count": null,
   "metadata": {},
   "outputs": [
    {
     "data": {
      "text/html": "<div>\n<style scoped>\n    .dataframe tbody tr th:only-of-type {\n        vertical-align: middle;\n    }\n\n    .dataframe tbody tr th {\n        vertical-align: top;\n    }\n\n    .dataframe thead th {\n        text-align: right;\n    }\n</style>\n<table border=\"1\" class=\"dataframe\">\n  <thead>\n    <tr style=\"text-align: right;\">\n      <th></th>\n      <th>t</th>\n      <th>e</th>\n      <th>fin</th>\n      <th>age</th>\n      <th>race</th>\n      <th>wexp</th>\n      <th>mar</th>\n      <th>paro</th>\n      <th>prio</th>\n      <th>surv_prob</th>\n      <th>mode_time</th>\n    </tr>\n  </thead>\n  <tbody>\n    <tr>\n      <th>0</th>\n      <td>20</td>\n      <td>1</td>\n      <td>0</td>\n      <td>27</td>\n      <td>1</td>\n      <td>0</td>\n      <td>0</td>\n      <td>1</td>\n      <td>3</td>\n      <td>0.954641</td>\n      <td>30.349995</td>\n    </tr>\n    <tr>\n      <th>1</th>\n      <td>17</td>\n      <td>1</td>\n      <td>0</td>\n      <td>18</td>\n      <td>1</td>\n      <td>0</td>\n      <td>0</td>\n      <td>1</td>\n      <td>8</td>\n      <td>0.857569</td>\n      <td>21.751127</td>\n    </tr>\n    <tr>\n      <th>2</th>\n      <td>25</td>\n      <td>1</td>\n      <td>0</td>\n      <td>19</td>\n      <td>0</td>\n      <td>1</td>\n      <td>0</td>\n      <td>1</td>\n      <td>13</td>\n      <td>0.049757</td>\n      <td>8.331078</td>\n    </tr>\n    <tr>\n      <th>3</th>\n      <td>52</td>\n      <td>0</td>\n      <td>1</td>\n      <td>23</td>\n      <td>1</td>\n      <td>1</td>\n      <td>1</td>\n      <td>1</td>\n      <td>1</td>\n      <td>0.013023</td>\n      <td>10.488750</td>\n    </tr>\n    <tr>\n      <th>4</th>\n      <td>52</td>\n      <td>0</td>\n      <td>0</td>\n      <td>19</td>\n      <td>0</td>\n      <td>1</td>\n      <td>0</td>\n      <td>1</td>\n      <td>3</td>\n      <td>0.021093</td>\n      <td>12.552552</td>\n    </tr>\n    <tr>\n      <th>...</th>\n      <td>...</td>\n      <td>...</td>\n      <td>...</td>\n      <td>...</td>\n      <td>...</td>\n      <td>...</td>\n      <td>...</td>\n      <td>...</td>\n      <td>...</td>\n      <td>...</td>\n      <td>...</td>\n    </tr>\n    <tr>\n      <th>427</th>\n      <td>52</td>\n      <td>0</td>\n      <td>1</td>\n      <td>31</td>\n      <td>0</td>\n      <td>1</td>\n      <td>0</td>\n      <td>1</td>\n      <td>3</td>\n      <td>0.029531</td>\n      <td>14.236526</td>\n    </tr>\n    <tr>\n      <th>428</th>\n      <td>52</td>\n      <td>0</td>\n      <td>0</td>\n      <td>20</td>\n      <td>1</td>\n      <td>0</td>\n      <td>0</td>\n      <td>1</td>\n      <td>1</td>\n      <td>0.198965</td>\n      <td>29.817591</td>\n    </tr>\n    <tr>\n      <th>429</th>\n      <td>52</td>\n      <td>0</td>\n      <td>1</td>\n      <td>20</td>\n      <td>1</td>\n      <td>1</td>\n      <td>1</td>\n      <td>1</td>\n      <td>1</td>\n      <td>0.011608</td>\n      <td>10.050090</td>\n    </tr>\n    <tr>\n      <th>430</th>\n      <td>52</td>\n      <td>0</td>\n      <td>0</td>\n      <td>29</td>\n      <td>1</td>\n      <td>1</td>\n      <td>0</td>\n      <td>1</td>\n      <td>3</td>\n      <td>0.076160</td>\n      <td>20.383711</td>\n    </tr>\n    <tr>\n      <th>431</th>\n      <td>52</td>\n      <td>0</td>\n      <td>1</td>\n      <td>24</td>\n      <td>1</td>\n      <td>1</td>\n      <td>0</td>\n      <td>1</td>\n      <td>1</td>\n      <td>0.069662</td>\n      <td>19.698050</td>\n    </tr>\n  </tbody>\n</table>\n<p>432 rows × 11 columns</p>\n</div>",
      "text/plain": [
       "      t  e  fin  age  race  wexp  mar  paro  prio  surv_prob  mode_time\n",
       "0    20  1    0   27     1     0    0     1     3   0.954641  30.349995\n",
       "1    17  1    0   18     1     0    0     1     8   0.857569  21.751127\n",
       "2    25  1    0   19     0     1    0     1    13   0.049757   8.331078\n",
       "3    52  0    1   23     1     1    1     1     1   0.013023  10.488750\n",
       "4    52  0    0   19     0     1    0     1     3   0.021093  12.552552\n",
       "..   .. ..  ...  ...   ...   ...  ...   ...   ...        ...        ...\n",
       "427  52  0    1   31     0     1    0     1     3   0.029531  14.236526\n",
       "428  52  0    0   20     1     0    0     1     1   0.198965  29.817591\n",
       "429  52  0    1   20     1     1    1     1     1   0.011608  10.050090\n",
       "430  52  0    0   29     1     1    0     1     3   0.076160  20.383711\n",
       "431  52  0    1   24     1     1    0     1     1   0.069662  19.698050\n",
       "\n",
       "[432 rows x 11 columns]"
      ]
     },
     "execution_count": null,
     "metadata": {},
     "output_type": "execute_result"
    }
   ],
   "source": [
    "df[\"surv_prob\"] = surv_prob\n",
    "df[\"mode_time\"] = mode_time\n",
    "df"
   ]
  },
  {
   "cell_type": "code",
   "execution_count": null,
   "metadata": {},
   "outputs": [
    {
     "data": {
      "image/png": "[encoded data removed]",
      "image/svg+xml": "<?xml version=\"1.0\" encoding=\"utf-8\" standalone=\"no\"?>\n<!DOCTYPE svg PUBLIC \"-//W3C//DTD SVG 1.1//EN\"\n  \"http://www.w3.org/Graphics/SVG/1.1/DTD/svg11.dtd\">\n<!-- Created with matplotlib (https://matplotlib.org/) -->\n<svg height=\"248.518125pt\" version=\"1.1\" viewBox=\"0 0 368.925 248.518125\" width=\"368.925pt\" xmlns=\"http://www.w3.org/2000/svg\" xmlns:xlink=\"http://www.w3.org/1999/xlink\">\n <defs>\n  <style type=\"text/css\">\n*{stroke-linecap:butt;stroke-linejoin:round;}\n  </style>\n </defs>\n <g id=\"figure_1\">\n  <g id=\"patch_1\">\n   <path d=\"M -0 248.518125 \nL 368.925 248.518125 \nL 368.925 0 \nL -0 0 \nz\n\" style=\"fill:none;\"/>\n  </g>\n  <g id=\"axes_1\">\n   <g id=\"patch_2\">\n    <path d=\"M 26.925 224.64 \nL 361.725 224.64 \nL 361.725 7.2 \nL 26.925 7.2 \nz\n\" style=\"fill:#ffffff;\"/>\n   </g>\n   <g id=\"patch_3\">\n    <path clip-path=\"url(#p66b76ef883)\" d=\"M 44.29465 224.64 \nL 54.368388 224.64 \nL 54.368388 188.004867 \nL 44.29465 188.004867 \nz\n\" style=\"fill:#1f77b4;opacity:0.5;\"/>\n   </g>\n   <g id=\"patch_4\">\n    <path clip-path=\"url(#p66b76ef883)\" d=\"M 54.368388 224.64 \nL 64.442127 224.64 \nL 64.442127 183.425476 \nL 54.368388 183.425476 \nz\n\" style=\"fill:#1f77b4;opacity:0.5;\"/>\n   </g>\n   <g id=\"patch_5\">\n    <path clip-path=\"url(#p66b76ef883)\" d=\"M 64.442127 224.64 \nL 74.515867 224.64 \nL 74.515867 178.846084 \nL 64.442127 178.846084 \nz\n\" style=\"fill:#1f77b4;opacity:0.5;\"/>\n   </g>\n   <g id=\"patch_6\">\n    <path clip-path=\"url(#p66b76ef883)\" d=\"M 74.515864 224.64 \nL 84.589606 224.64 \nL 84.589606 192.584259 \nL 74.515864 192.584259 \nz\n\" style=\"fill:#1f77b4;opacity:0.5;\"/>\n   </g>\n   <g id=\"patch_7\">\n    <path clip-path=\"url(#p66b76ef883)\" d=\"M 84.589606 224.64 \nL 94.663343 224.64 \nL 94.663343 201.743037 \nL 84.589606 201.743037 \nz\n\" style=\"fill:#1f77b4;opacity:0.5;\"/>\n   </g>\n   <g id=\"patch_8\">\n    <path clip-path=\"url(#p66b76ef883)\" d=\"M 94.663343 224.64 \nL 104.737084 224.64 \nL 104.737084 201.743047 \nL 94.663343 201.743047 \nz\n\" style=\"fill:#1f77b4;opacity:0.5;\"/>\n   </g>\n   <g id=\"patch_9\">\n    <path clip-path=\"url(#p66b76ef883)\" d=\"M 104.737079 224.64 \nL 114.810816 224.64 \nL 114.810816 201.743037 \nL 104.737079 201.743037 \nz\n\" style=\"fill:#1f77b4;opacity:0.5;\"/>\n   </g>\n   <g id=\"patch_10\">\n    <path clip-path=\"url(#p66b76ef883)\" d=\"M 114.810821 224.64 \nL 124.884562 224.64 \nL 124.884562 224.64 \nL 114.810821 224.64 \nz\n\" style=\"fill:#1f77b4;opacity:0.5;\"/>\n   </g>\n   <g id=\"patch_11\">\n    <path clip-path=\"url(#p66b76ef883)\" d=\"M 124.884562 224.64 \nL 134.958304 224.64 \nL 134.958304 215.481219 \nL 124.884562 215.481219 \nz\n\" style=\"fill:#1f77b4;opacity:0.5;\"/>\n   </g>\n   <g id=\"patch_12\">\n    <path clip-path=\"url(#p66b76ef883)\" d=\"M 134.958304 224.64 \nL 145.032036 224.64 \nL 145.032036 206.322421 \nL 134.958304 206.322421 \nz\n\" style=\"fill:#1f77b4;opacity:0.5;\"/>\n   </g>\n   <g id=\"patch_13\">\n    <path clip-path=\"url(#p66b76ef883)\" d=\"M 145.032036 224.64 \nL 155.105777 224.64 \nL 155.105777 220.060609 \nL 145.032036 220.060609 \nz\n\" style=\"fill:#1f77b4;opacity:0.5;\"/>\n   </g>\n   <g id=\"patch_14\">\n    <path clip-path=\"url(#p66b76ef883)\" d=\"M 155.105777 224.64 \nL 165.179519 224.64 \nL 165.179519 206.322438 \nL 155.105777 206.322438 \nz\n\" style=\"fill:#1f77b4;opacity:0.5;\"/>\n   </g>\n   <g id=\"patch_15\">\n    <path clip-path=\"url(#p66b76ef883)\" d=\"M 165.179519 224.64 \nL 175.25326 224.64 \nL 175.25326 210.901828 \nL 165.179519 210.901828 \nz\n\" style=\"fill:#1f77b4;opacity:0.5;\"/>\n   </g>\n   <g id=\"patch_16\">\n    <path clip-path=\"url(#p66b76ef883)\" d=\"M 175.253251 224.64 \nL 185.326983 224.64 \nL 185.326983 197.163632 \nL 175.253251 197.163632 \nz\n\" style=\"fill:#1f77b4;opacity:0.5;\"/>\n   </g>\n   <g id=\"patch_17\">\n    <path clip-path=\"url(#p66b76ef883)\" d=\"M 185.326992 224.64 \nL 195.400734 224.64 \nL 195.400734 224.64 \nL 185.326992 224.64 \nz\n\" style=\"fill:#1f77b4;opacity:0.5;\"/>\n   </g>\n   <g id=\"patch_18\">\n    <path clip-path=\"url(#p66b76ef883)\" d=\"M 195.400734 224.64 \nL 205.474475 224.64 \nL 205.474475 215.481219 \nL 195.400734 215.481219 \nz\n\" style=\"fill:#1f77b4;opacity:0.5;\"/>\n   </g>\n   <g id=\"patch_19\">\n    <path clip-path=\"url(#p66b76ef883)\" d=\"M 205.474475 224.64 \nL 215.548216 224.64 \nL 215.548216 220.060609 \nL 205.474475 220.060609 \nz\n\" style=\"fill:#1f77b4;opacity:0.5;\"/>\n   </g>\n   <g id=\"patch_20\">\n    <path clip-path=\"url(#p66b76ef883)\" d=\"M 215.548216 224.64 \nL 225.621958 224.64 \nL 225.621958 220.060609 \nL 215.548216 220.060609 \nz\n\" style=\"fill:#1f77b4;opacity:0.5;\"/>\n   </g>\n   <g id=\"patch_21\">\n    <path clip-path=\"url(#p66b76ef883)\" d=\"M 225.621958 224.64 \nL 235.695681 224.64 \nL 235.695681 220.060601 \nL 225.621958 220.060601 \nz\n\" style=\"fill:#1f77b4;opacity:0.5;\"/>\n   </g>\n   <g id=\"patch_22\">\n    <path clip-path=\"url(#p66b76ef883)\" d=\"M 235.695681 224.64 \nL 245.769422 224.64 \nL 245.769422 220.060609 \nL 235.695681 220.060609 \nz\n\" style=\"fill:#1f77b4;opacity:0.5;\"/>\n   </g>\n   <g id=\"patch_23\">\n    <path clip-path=\"url(#p66b76ef883)\" d=\"M 245.769422 224.64 \nL 255.843164 224.64 \nL 255.843164 215.481219 \nL 245.769422 215.481219 \nz\n\" style=\"fill:#1f77b4;opacity:0.5;\"/>\n   </g>\n   <g id=\"patch_24\">\n    <path clip-path=\"url(#p66b76ef883)\" d=\"M 255.843164 224.64 \nL 265.916905 224.64 \nL 265.916905 220.060609 \nL 255.843164 220.060609 \nz\n\" style=\"fill:#1f77b4;opacity:0.5;\"/>\n   </g>\n   <g id=\"patch_25\">\n    <path clip-path=\"url(#p66b76ef883)\" d=\"M 265.916905 224.64 \nL 275.990647 224.64 \nL 275.990647 220.060609 \nL 265.916905 220.060609 \nz\n\" style=\"fill:#1f77b4;opacity:0.5;\"/>\n   </g>\n   <g id=\"patch_26\">\n    <path clip-path=\"url(#p66b76ef883)\" d=\"M 275.990647 224.64 \nL 286.064388 224.64 \nL 286.064388 224.64 \nL 275.990647 224.64 \nz\n\" style=\"fill:#1f77b4;opacity:0.5;\"/>\n   </g>\n   <g id=\"patch_27\">\n    <path clip-path=\"url(#p66b76ef883)\" d=\"M 286.064388 224.64 \nL 296.138129 224.64 \nL 296.138129 224.64 \nL 286.064388 224.64 \nz\n\" style=\"fill:#1f77b4;opacity:0.5;\"/>\n   </g>\n   <g id=\"patch_28\">\n    <path clip-path=\"url(#p66b76ef883)\" d=\"M 296.138129 224.64 \nL 306.211871 224.64 \nL 306.211871 215.481219 \nL 296.138129 215.481219 \nz\n\" style=\"fill:#1f77b4;opacity:0.5;\"/>\n   </g>\n   <g id=\"patch_29\">\n    <path clip-path=\"url(#p66b76ef883)\" d=\"M 306.211853 224.64 \nL 316.285576 224.64 \nL 316.285576 220.060601 \nL 306.211853 220.060601 \nz\n\" style=\"fill:#1f77b4;opacity:0.5;\"/>\n   </g>\n   <g id=\"patch_30\">\n    <path clip-path=\"url(#p66b76ef883)\" d=\"M 316.285594 224.64 \nL 326.359335 224.64 \nL 326.359335 201.743047 \nL 316.285594 201.743047 \nz\n\" style=\"fill:#1f77b4;opacity:0.5;\"/>\n   </g>\n   <g id=\"patch_31\">\n    <path clip-path=\"url(#p66b76ef883)\" d=\"M 326.359335 224.64 \nL 336.433077 224.64 \nL 336.433077 201.743047 \nL 326.359335 201.743047 \nz\n\" style=\"fill:#1f77b4;opacity:0.5;\"/>\n   </g>\n   <g id=\"patch_32\">\n    <path clip-path=\"url(#p66b76ef883)\" d=\"M 336.433077 224.64 \nL 346.506818 224.64 \nL 346.506818 123.893408 \nL 336.433077 123.893408 \nz\n\" style=\"fill:#1f77b4;opacity:0.5;\"/>\n   </g>\n   <g id=\"patch_33\">\n    <path clip-path=\"url(#p66b76ef883)\" d=\"M 42.143182 224.64 \nL 45.896573 224.64 \nL 45.896573 114.488008 \nL 42.143182 114.488008 \nz\n\" style=\"fill:#ff7f0e;opacity:0.5;\"/>\n   </g>\n   <g id=\"patch_34\">\n    <path clip-path=\"url(#p66b76ef883)\" d=\"M 45.896573 224.64 \nL 49.649965 224.64 \nL 49.649965 114.488008 \nL 45.896573 114.488008 \nz\n\" style=\"fill:#ff7f0e;opacity:0.5;\"/>\n   </g>\n   <g id=\"patch_35\">\n    <path clip-path=\"url(#p66b76ef883)\" d=\"M 49.649964 224.64 \nL 53.403356 224.64 \nL 53.403356 140.924473 \nL 49.649964 140.924473 \nz\n\" style=\"fill:#ff7f0e;opacity:0.5;\"/>\n   </g>\n   <g id=\"patch_36\">\n    <path clip-path=\"url(#p66b76ef883)\" d=\"M 53.403356 224.64 \nL 57.156748 224.64 \nL 57.156748 149.736657 \nL 53.403356 149.736657 \nz\n\" style=\"fill:#ff7f0e;opacity:0.5;\"/>\n   </g>\n   <g id=\"patch_37\">\n    <path clip-path=\"url(#p66b76ef883)\" d=\"M 57.156748 224.64 \nL 60.91014 224.64 \nL 60.91014 17.554286 \nL 57.156748 17.554286 \nz\n\" style=\"fill:#ff7f0e;opacity:0.5;\"/>\n   </g>\n   <g id=\"patch_38\">\n    <path clip-path=\"url(#p66b76ef883)\" d=\"M 60.910137 224.64 \nL 64.663527 224.64 \nL 64.663527 30.772405 \nL 60.910137 30.772405 \nz\n\" style=\"fill:#ff7f0e;opacity:0.5;\"/>\n   </g>\n   <g id=\"patch_39\">\n    <path clip-path=\"url(#p66b76ef883)\" d=\"M 64.663529 224.64 \nL 68.416921 224.64 \nL 68.416921 136.518419 \nL 64.663529 136.518419 \nz\n\" style=\"fill:#ff7f0e;opacity:0.5;\"/>\n   </g>\n   <g id=\"patch_40\">\n    <path clip-path=\"url(#p66b76ef883)\" d=\"M 68.416921 224.64 \nL 72.170313 224.64 \nL 72.170313 180.57921 \nL 68.416921 180.57921 \nz\n\" style=\"fill:#ff7f0e;opacity:0.5;\"/>\n   </g>\n   <g id=\"patch_41\">\n    <path clip-path=\"url(#p66b76ef883)\" d=\"M 72.170313 224.64 \nL 75.923705 224.64 \nL 75.923705 171.767052 \nL 72.170313 171.767052 \nz\n\" style=\"fill:#ff7f0e;opacity:0.5;\"/>\n   </g>\n   <g id=\"patch_42\">\n    <path clip-path=\"url(#p66b76ef883)\" d=\"M 75.923705 224.64 \nL 79.677095 224.64 \nL 79.677095 171.76702 \nL 75.923705 171.76702 \nz\n\" style=\"fill:#ff7f0e;opacity:0.5;\"/>\n   </g>\n   <g id=\"patch_43\">\n    <path clip-path=\"url(#p66b76ef883)\" d=\"M 79.677095 224.64 \nL 83.43049 224.64 \nL 83.43049 189.391389 \nL 79.677095 189.391389 \nz\n\" style=\"fill:#ff7f0e;opacity:0.5;\"/>\n   </g>\n   <g id=\"patch_44\">\n    <path clip-path=\"url(#p66b76ef883)\" d=\"M 83.43049 224.64 \nL 87.183877 224.64 \nL 87.183877 193.797409 \nL 83.43049 193.797409 \nz\n\" style=\"fill:#ff7f0e;opacity:0.5;\"/>\n   </g>\n   <g id=\"patch_45\">\n    <path clip-path=\"url(#p66b76ef883)\" d=\"M 87.183877 224.64 \nL 90.937269 224.64 \nL 90.937269 162.954894 \nL 87.183877 162.954894 \nz\n\" style=\"fill:#ff7f0e;opacity:0.5;\"/>\n   </g>\n   <g id=\"patch_46\">\n    <path clip-path=\"url(#p66b76ef883)\" d=\"M 90.937269 224.64 \nL 94.690661 224.64 \nL 94.690661 180.57921 \nL 90.937269 180.57921 \nz\n\" style=\"fill:#ff7f0e;opacity:0.5;\"/>\n   </g>\n   <g id=\"patch_47\">\n    <path clip-path=\"url(#p66b76ef883)\" d=\"M 94.690661 224.64 \nL 98.444053 224.64 \nL 98.444053 136.518419 \nL 94.690661 136.518419 \nz\n\" style=\"fill:#ff7f0e;opacity:0.5;\"/>\n   </g>\n   <g id=\"patch_48\">\n    <path clip-path=\"url(#p66b76ef883)\" d=\"M 98.444053 224.64 \nL 102.197445 224.64 \nL 102.197445 184.985289 \nL 98.444053 184.985289 \nz\n\" style=\"fill:#ff7f0e;opacity:0.5;\"/>\n   </g>\n   <g id=\"patch_49\">\n    <path clip-path=\"url(#p66b76ef883)\" d=\"M 102.197445 224.64 \nL 105.950837 224.64 \nL 105.950837 189.391368 \nL 102.197445 189.391368 \nz\n\" style=\"fill:#ff7f0e;opacity:0.5;\"/>\n   </g>\n   <g id=\"patch_50\">\n    <path clip-path=\"url(#p66b76ef883)\" d=\"M 105.950837 224.64 \nL 109.704229 224.64 \nL 109.704229 202.609605 \nL 105.950837 202.609605 \nz\n\" style=\"fill:#ff7f0e;opacity:0.5;\"/>\n   </g>\n   <g id=\"patch_51\">\n    <path clip-path=\"url(#p66b76ef883)\" d=\"M 109.704225 224.64 \nL 113.457612 224.64 \nL 113.457612 224.64 \nL 109.704225 224.64 \nz\n\" style=\"fill:#ff7f0e;opacity:0.5;\"/>\n   </g>\n   <g id=\"patch_52\">\n    <path clip-path=\"url(#p66b76ef883)\" d=\"M 113.457617 224.64 \nL 117.211009 224.64 \nL 117.211009 220.233921 \nL 113.457617 220.233921 \nz\n\" style=\"fill:#ff7f0e;opacity:0.5;\"/>\n   </g>\n   <g id=\"patch_53\">\n    <path clip-path=\"url(#p66b76ef883)\" d=\"M 117.211004 224.64 \nL 120.964405 224.64 \nL 120.964405 220.233926 \nL 117.211004 220.233926 \nz\n\" style=\"fill:#ff7f0e;opacity:0.5;\"/>\n   </g>\n   <g id=\"patch_54\">\n    <path clip-path=\"url(#p66b76ef883)\" d=\"M 120.964396 224.64 \nL 124.717788 224.64 \nL 124.717788 224.64 \nL 120.964396 224.64 \nz\n\" style=\"fill:#ff7f0e;opacity:0.5;\"/>\n   </g>\n   <g id=\"patch_55\">\n    <path clip-path=\"url(#p66b76ef883)\" d=\"M 124.717797 224.64 \nL 128.47118 224.64 \nL 128.47118 224.64 \nL 124.717797 224.64 \nz\n\" style=\"fill:#ff7f0e;opacity:0.5;\"/>\n   </g>\n   <g id=\"patch_56\">\n    <path clip-path=\"url(#p66b76ef883)\" d=\"M 128.47118 224.64 \nL 132.224572 224.64 \nL 132.224572 220.233921 \nL 128.47118 220.233921 \nz\n\" style=\"fill:#ff7f0e;opacity:0.5;\"/>\n   </g>\n   <g id=\"patch_57\">\n    <path clip-path=\"url(#p66b76ef883)\" d=\"M 132.224563 224.64 \nL 135.977955 224.64 \nL 135.977955 220.233921 \nL 132.224563 220.233921 \nz\n\" style=\"fill:#ff7f0e;opacity:0.5;\"/>\n   </g>\n   <g id=\"patch_58\">\n    <path clip-path=\"url(#p66b76ef883)\" d=\"M 135.977964 224.64 \nL 139.731357 224.64 \nL 139.731357 224.64 \nL 135.977964 224.64 \nz\n\" style=\"fill:#ff7f0e;opacity:0.5;\"/>\n   </g>\n   <g id=\"patch_59\">\n    <path clip-path=\"url(#p66b76ef883)\" d=\"M 139.731347 224.64 \nL 143.484739 224.64 \nL 143.484739 220.233921 \nL 139.731347 220.233921 \nz\n\" style=\"fill:#ff7f0e;opacity:0.5;\"/>\n   </g>\n   <g id=\"patch_60\">\n    <path clip-path=\"url(#p66b76ef883)\" d=\"M 143.484749 224.64 \nL 147.238141 224.64 \nL 147.238141 224.64 \nL 143.484749 224.64 \nz\n\" style=\"fill:#ff7f0e;opacity:0.5;\"/>\n   </g>\n   <g id=\"patch_61\">\n    <path clip-path=\"url(#p66b76ef883)\" d=\"M 147.238131 224.64 \nL 150.991524 224.64 \nL 150.991524 224.64 \nL 147.238131 224.64 \nz\n\" style=\"fill:#ff7f0e;opacity:0.5;\"/>\n   </g>\n   <g id=\"patch_62\">\n    <path clip-path=\"url(#p66b76ef883)\" d=\"M 150.991533 224.64 \nL 154.744925 224.64 \nL 154.744925 220.233921 \nL 150.991533 220.233921 \nz\n\" style=\"fill:#ff7f0e;opacity:0.5;\"/>\n   </g>\n   <g id=\"matplotlib.axis_1\">\n    <g id=\"xtick_1\">\n     <g id=\"line2d_1\">\n      <defs>\n       <path d=\"M 0 0 \nL 0 3.5 \n\" id=\"mf522f09c6e\" style=\"stroke:#000000;stroke-width:0.8;\"/>\n      </defs>\n      <g>\n       <use style=\"stroke:#000000;stroke-width:0.8;\" x=\"41.614129\" xlink:href=\"#mf522f09c6e\" y=\"224.64\"/>\n      </g>\n     </g>\n     <g id=\"text_1\">\n      <!-- 0.0 -->\n      <defs>\n       <path d=\"M 31.78125 66.40625 \nQ 24.171875 66.40625 20.328125 58.90625 \nQ 16.5 51.421875 16.5 36.375 \nQ 16.5 21.390625 20.328125 13.890625 \nQ 24.171875 6.390625 31.78125 6.390625 \nQ 39.453125 6.390625 43.28125 13.890625 \nQ 47.125 21.390625 47.125 36.375 \nQ 47.125 51.421875 43.28125 58.90625 \nQ 39.453125 66.40625 31.78125 66.40625 \nz\nM 31.78125 74.21875 \nQ 44.046875 74.21875 50.515625 64.515625 \nQ 56.984375 54.828125 56.984375 36.375 \nQ 56.984375 17.96875 50.515625 8.265625 \nQ 44.046875 -1.421875 31.78125 -1.421875 \nQ 19.53125 -1.421875 13.0625 8.265625 \nQ 6.59375 17.96875 6.59375 36.375 \nQ 6.59375 54.828125 13.0625 64.515625 \nQ 19.53125 74.21875 31.78125 74.21875 \nz\n\" id=\"DejaVuSans-48\"/>\n       <path d=\"M 10.6875 12.40625 \nL 21 12.40625 \nL 21 0 \nL 10.6875 0 \nz\n\" id=\"DejaVuSans-46\"/>\n      </defs>\n      <g transform=\"translate(33.662566 239.238438)scale(0.1 -0.1)\">\n       <use xlink:href=\"#DejaVuSans-48\"/>\n       <use x=\"63.623047\" xlink:href=\"#DejaVuSans-46\"/>\n       <use x=\"95.410156\" xlink:href=\"#DejaVuSans-48\"/>\n      </g>\n     </g>\n    </g>\n    <g id=\"xtick_2\">\n     <g id=\"line2d_2\">\n      <g>\n       <use style=\"stroke:#000000;stroke-width:0.8;\" x=\"102.592667\" xlink:href=\"#mf522f09c6e\" y=\"224.64\"/>\n      </g>\n     </g>\n     <g id=\"text_2\">\n      <!-- 0.2 -->\n      <defs>\n       <path d=\"M 19.1875 8.296875 \nL 53.609375 8.296875 \nL 53.609375 0 \nL 7.328125 0 \nL 7.328125 8.296875 \nQ 12.9375 14.109375 22.625 23.890625 \nQ 32.328125 33.6875 34.8125 36.53125 \nQ 39.546875 41.84375 41.421875 45.53125 \nQ 43.3125 49.21875 43.3125 52.78125 \nQ 43.3125 58.59375 39.234375 62.25 \nQ 35.15625 65.921875 28.609375 65.921875 \nQ 23.96875 65.921875 18.8125 64.3125 \nQ 13.671875 62.703125 7.8125 59.421875 \nL 7.8125 69.390625 \nQ 13.765625 71.78125 18.9375 73 \nQ 24.125 74.21875 28.421875 74.21875 \nQ 39.75 74.21875 46.484375 68.546875 \nQ 53.21875 62.890625 53.21875 53.421875 \nQ 53.21875 48.921875 51.53125 44.890625 \nQ 49.859375 40.875 45.40625 35.40625 \nQ 44.1875 33.984375 37.640625 27.21875 \nQ 31.109375 20.453125 19.1875 8.296875 \nz\n\" id=\"DejaVuSans-50\"/>\n      </defs>\n      <g transform=\"translate(94.641104 239.238438)scale(0.1 -0.1)\">\n       <use xlink:href=\"#DejaVuSans-48\"/>\n       <use x=\"63.623047\" xlink:href=\"#DejaVuSans-46\"/>\n       <use x=\"95.410156\" xlink:href=\"#DejaVuSans-50\"/>\n      </g>\n     </g>\n    </g>\n    <g id=\"xtick_3\">\n     <g id=\"line2d_3\">\n      <g>\n       <use style=\"stroke:#000000;stroke-width:0.8;\" x=\"163.571204\" xlink:href=\"#mf522f09c6e\" y=\"224.64\"/>\n      </g>\n     </g>\n     <g id=\"text_3\">\n      <!-- 0.4 -->\n      <defs>\n       <path d=\"M 37.796875 64.3125 \nL 12.890625 25.390625 \nL 37.796875 25.390625 \nz\nM 35.203125 72.90625 \nL 47.609375 72.90625 \nL 47.609375 25.390625 \nL 58.015625 25.390625 \nL 58.015625 17.1875 \nL 47.609375 17.1875 \nL 47.609375 0 \nL 37.796875 0 \nL 37.796875 17.1875 \nL 4.890625 17.1875 \nL 4.890625 26.703125 \nz\n\" id=\"DejaVuSans-52\"/>\n      </defs>\n      <g transform=\"translate(155.619642 239.238438)scale(0.1 -0.1)\">\n       <use xlink:href=\"#DejaVuSans-48\"/>\n       <use x=\"63.623047\" xlink:href=\"#DejaVuSans-46\"/>\n       <use x=\"95.410156\" xlink:href=\"#DejaVuSans-52\"/>\n      </g>\n     </g>\n    </g>\n    <g id=\"xtick_4\">\n     <g id=\"line2d_4\">\n      <g>\n       <use style=\"stroke:#000000;stroke-width:0.8;\" x=\"224.549742\" xlink:href=\"#mf522f09c6e\" y=\"224.64\"/>\n      </g>\n     </g>\n     <g id=\"text_4\">\n      <!-- 0.6 -->\n      <defs>\n       <path d=\"M 33.015625 40.375 \nQ 26.375 40.375 22.484375 35.828125 \nQ 18.609375 31.296875 18.609375 23.390625 \nQ 18.609375 15.53125 22.484375 10.953125 \nQ 26.375 6.390625 33.015625 6.390625 \nQ 39.65625 6.390625 43.53125 10.953125 \nQ 47.40625 15.53125 47.40625 23.390625 \nQ 47.40625 31.296875 43.53125 35.828125 \nQ 39.65625 40.375 33.015625 40.375 \nz\nM 52.59375 71.296875 \nL 52.59375 62.3125 \nQ 48.875 64.0625 45.09375 64.984375 \nQ 41.3125 65.921875 37.59375 65.921875 \nQ 27.828125 65.921875 22.671875 59.328125 \nQ 17.53125 52.734375 16.796875 39.40625 \nQ 19.671875 43.65625 24.015625 45.921875 \nQ 28.375 48.1875 33.59375 48.1875 \nQ 44.578125 48.1875 50.953125 41.515625 \nQ 57.328125 34.859375 57.328125 23.390625 \nQ 57.328125 12.15625 50.6875 5.359375 \nQ 44.046875 -1.421875 33.015625 -1.421875 \nQ 20.359375 -1.421875 13.671875 8.265625 \nQ 6.984375 17.96875 6.984375 36.375 \nQ 6.984375 53.65625 15.1875 63.9375 \nQ 23.390625 74.21875 37.203125 74.21875 \nQ 40.921875 74.21875 44.703125 73.484375 \nQ 48.484375 72.75 52.59375 71.296875 \nz\n\" id=\"DejaVuSans-54\"/>\n      </defs>\n      <g transform=\"translate(216.59818 239.238438)scale(0.1 -0.1)\">\n       <use xlink:href=\"#DejaVuSans-48\"/>\n       <use x=\"63.623047\" xlink:href=\"#DejaVuSans-46\"/>\n       <use x=\"95.410156\" xlink:href=\"#DejaVuSans-54\"/>\n      </g>\n     </g>\n    </g>\n    <g id=\"xtick_5\">\n     <g id=\"line2d_5\">\n      <g>\n       <use style=\"stroke:#000000;stroke-width:0.8;\" x=\"285.52828\" xlink:href=\"#mf522f09c6e\" y=\"224.64\"/>\n      </g>\n     </g>\n     <g id=\"text_5\">\n      <!-- 0.8 -->\n      <defs>\n       <path d=\"M 31.78125 34.625 \nQ 24.75 34.625 20.71875 30.859375 \nQ 16.703125 27.09375 16.703125 20.515625 \nQ 16.703125 13.921875 20.71875 10.15625 \nQ 24.75 6.390625 31.78125 6.390625 \nQ 38.8125 6.390625 42.859375 10.171875 \nQ 46.921875 13.96875 46.921875 20.515625 \nQ 46.921875 27.09375 42.890625 30.859375 \nQ 38.875 34.625 31.78125 34.625 \nz\nM 21.921875 38.8125 \nQ 15.578125 40.375 12.03125 44.71875 \nQ 8.5 49.078125 8.5 55.328125 \nQ 8.5 64.0625 14.71875 69.140625 \nQ 20.953125 74.21875 31.78125 74.21875 \nQ 42.671875 74.21875 48.875 69.140625 \nQ 55.078125 64.0625 55.078125 55.328125 \nQ 55.078125 49.078125 51.53125 44.71875 \nQ 48 40.375 41.703125 38.8125 \nQ 48.828125 37.15625 52.796875 32.3125 \nQ 56.78125 27.484375 56.78125 20.515625 \nQ 56.78125 9.90625 50.3125 4.234375 \nQ 43.84375 -1.421875 31.78125 -1.421875 \nQ 19.734375 -1.421875 13.25 4.234375 \nQ 6.78125 9.90625 6.78125 20.515625 \nQ 6.78125 27.484375 10.78125 32.3125 \nQ 14.796875 37.15625 21.921875 38.8125 \nz\nM 18.3125 54.390625 \nQ 18.3125 48.734375 21.84375 45.5625 \nQ 25.390625 42.390625 31.78125 42.390625 \nQ 38.140625 42.390625 41.71875 45.5625 \nQ 45.3125 48.734375 45.3125 54.390625 \nQ 45.3125 60.0625 41.71875 63.234375 \nQ 38.140625 66.40625 31.78125 66.40625 \nQ 25.390625 66.40625 21.84375 63.234375 \nQ 18.3125 60.0625 18.3125 54.390625 \nz\n\" id=\"DejaVuSans-56\"/>\n      </defs>\n      <g transform=\"translate(277.576718 239.238438)scale(0.1 -0.1)\">\n       <use xlink:href=\"#DejaVuSans-48\"/>\n       <use x=\"63.623047\" xlink:href=\"#DejaVuSans-46\"/>\n       <use x=\"95.410156\" xlink:href=\"#DejaVuSans-56\"/>\n      </g>\n     </g>\n    </g>\n    <g id=\"xtick_6\">\n     <g id=\"line2d_6\">\n      <g>\n       <use style=\"stroke:#000000;stroke-width:0.8;\" x=\"346.506818\" xlink:href=\"#mf522f09c6e\" y=\"224.64\"/>\n      </g>\n     </g>\n     <g id=\"text_6\">\n      <!-- 1.0 -->\n      <defs>\n       <path d=\"M 12.40625 8.296875 \nL 28.515625 8.296875 \nL 28.515625 63.921875 \nL 10.984375 60.40625 \nL 10.984375 69.390625 \nL 28.421875 72.90625 \nL 38.28125 72.90625 \nL 38.28125 8.296875 \nL 54.390625 8.296875 \nL 54.390625 0 \nL 12.40625 0 \nz\n\" id=\"DejaVuSans-49\"/>\n      </defs>\n      <g transform=\"translate(338.555256 239.238438)scale(0.1 -0.1)\">\n       <use xlink:href=\"#DejaVuSans-49\"/>\n       <use x=\"63.623047\" xlink:href=\"#DejaVuSans-46\"/>\n       <use x=\"95.410156\" xlink:href=\"#DejaVuSans-48\"/>\n      </g>\n     </g>\n    </g>\n   </g>\n   <g id=\"matplotlib.axis_2\">\n    <g id=\"ytick_1\">\n     <g id=\"line2d_7\">\n      <defs>\n       <path d=\"M 0 0 \nL -3.5 0 \n\" id=\"m58845f442f\" style=\"stroke:#000000;stroke-width:0.8;\"/>\n      </defs>\n      <g>\n       <use style=\"stroke:#000000;stroke-width:0.8;\" x=\"26.925\" xlink:href=\"#m58845f442f\" y=\"224.64\"/>\n      </g>\n     </g>\n     <g id=\"text_7\">\n      <!-- 0 -->\n      <g transform=\"translate(13.5625 228.439219)scale(0.1 -0.1)\">\n       <use xlink:href=\"#DejaVuSans-48\"/>\n      </g>\n     </g>\n    </g>\n    <g id=\"ytick_2\">\n     <g id=\"line2d_8\">\n      <g>\n       <use style=\"stroke:#000000;stroke-width:0.8;\" x=\"26.925\" xlink:href=\"#m58845f442f\" y=\"190.142604\"/>\n      </g>\n     </g>\n     <g id=\"text_8\">\n      <!-- 2 -->\n      <g transform=\"translate(13.5625 193.941823)scale(0.1 -0.1)\">\n       <use xlink:href=\"#DejaVuSans-50\"/>\n      </g>\n     </g>\n    </g>\n    <g id=\"ytick_3\">\n     <g id=\"line2d_9\">\n      <g>\n       <use style=\"stroke:#000000;stroke-width:0.8;\" x=\"26.925\" xlink:href=\"#m58845f442f\" y=\"155.645208\"/>\n      </g>\n     </g>\n     <g id=\"text_9\">\n      <!-- 4 -->\n      <g transform=\"translate(13.5625 159.444427)scale(0.1 -0.1)\">\n       <use xlink:href=\"#DejaVuSans-52\"/>\n      </g>\n     </g>\n    </g>\n    <g id=\"ytick_4\">\n     <g id=\"line2d_10\">\n      <g>\n       <use style=\"stroke:#000000;stroke-width:0.8;\" x=\"26.925\" xlink:href=\"#m58845f442f\" y=\"121.147812\"/>\n      </g>\n     </g>\n     <g id=\"text_10\">\n      <!-- 6 -->\n      <g transform=\"translate(13.5625 124.94703)scale(0.1 -0.1)\">\n       <use xlink:href=\"#DejaVuSans-54\"/>\n      </g>\n     </g>\n    </g>\n    <g id=\"ytick_5\">\n     <g id=\"line2d_11\">\n      <g>\n       <use style=\"stroke:#000000;stroke-width:0.8;\" x=\"26.925\" xlink:href=\"#m58845f442f\" y=\"86.650416\"/>\n      </g>\n     </g>\n     <g id=\"text_11\">\n      <!-- 8 -->\n      <g transform=\"translate(13.5625 90.449634)scale(0.1 -0.1)\">\n       <use xlink:href=\"#DejaVuSans-56\"/>\n      </g>\n     </g>\n    </g>\n    <g id=\"ytick_6\">\n     <g id=\"line2d_12\">\n      <g>\n       <use style=\"stroke:#000000;stroke-width:0.8;\" x=\"26.925\" xlink:href=\"#m58845f442f\" y=\"52.15302\"/>\n      </g>\n     </g>\n     <g id=\"text_12\">\n      <!-- 10 -->\n      <g transform=\"translate(7.2 55.952238)scale(0.1 -0.1)\">\n       <use xlink:href=\"#DejaVuSans-49\"/>\n       <use x=\"63.623047\" xlink:href=\"#DejaVuSans-48\"/>\n      </g>\n     </g>\n    </g>\n    <g id=\"ytick_7\">\n     <g id=\"line2d_13\">\n      <g>\n       <use style=\"stroke:#000000;stroke-width:0.8;\" x=\"26.925\" xlink:href=\"#m58845f442f\" y=\"17.655623\"/>\n      </g>\n     </g>\n     <g id=\"text_13\">\n      <!-- 12 -->\n      <g transform=\"translate(7.2 21.454842)scale(0.1 -0.1)\">\n       <use xlink:href=\"#DejaVuSans-49\"/>\n       <use x=\"63.623047\" xlink:href=\"#DejaVuSans-50\"/>\n      </g>\n     </g>\n    </g>\n   </g>\n   <g id=\"patch_63\">\n    <path d=\"M 26.925 224.64 \nL 26.925 7.2 \n\" style=\"fill:none;stroke:#000000;stroke-linecap:square;stroke-linejoin:miter;stroke-width:0.8;\"/>\n   </g>\n   <g id=\"patch_64\">\n    <path d=\"M 361.725 224.64 \nL 361.725 7.2 \n\" style=\"fill:none;stroke:#000000;stroke-linecap:square;stroke-linejoin:miter;stroke-width:0.8;\"/>\n   </g>\n   <g id=\"patch_65\">\n    <path d=\"M 26.925 224.64 \nL 361.725 224.64 \n\" style=\"fill:none;stroke:#000000;stroke-linecap:square;stroke-linejoin:miter;stroke-width:0.8;\"/>\n   </g>\n   <g id=\"patch_66\">\n    <path d=\"M 26.925 7.2 \nL 361.725 7.2 \n\" style=\"fill:none;stroke:#000000;stroke-linecap:square;stroke-linejoin:miter;stroke-width:0.8;\"/>\n   </g>\n   <g id=\"legend_1\">\n    <g id=\"patch_67\">\n     <path d=\"M 277.020312 44.55625 \nL 354.725 44.55625 \nQ 356.725 44.55625 356.725 42.55625 \nL 356.725 14.2 \nQ 356.725 12.2 354.725 12.2 \nL 277.020312 12.2 \nQ 275.020312 12.2 275.020312 14.2 \nL 275.020312 42.55625 \nQ 275.020312 44.55625 277.020312 44.55625 \nz\n\" style=\"fill:#ffffff;opacity:0.8;stroke:#cccccc;stroke-linejoin:miter;\"/>\n    </g>\n    <g id=\"patch_68\">\n     <path d=\"M 279.020312 23.798437 \nL 299.020312 23.798437 \nL 299.020312 16.798437 \nL 279.020312 16.798437 \nz\n\" style=\"fill:#1f77b4;opacity:0.5;\"/>\n    </g>\n    <g id=\"text_14\">\n     <!-- death -->\n     <defs>\n      <path d=\"M 45.40625 46.390625 \nL 45.40625 75.984375 \nL 54.390625 75.984375 \nL 54.390625 0 \nL 45.40625 0 \nL 45.40625 8.203125 \nQ 42.578125 3.328125 38.25 0.953125 \nQ 33.9375 -1.421875 27.875 -1.421875 \nQ 17.96875 -1.421875 11.734375 6.484375 \nQ 5.515625 14.40625 5.515625 27.296875 \nQ 5.515625 40.1875 11.734375 48.09375 \nQ 17.96875 56 27.875 56 \nQ 33.9375 56 38.25 53.625 \nQ 42.578125 51.265625 45.40625 46.390625 \nz\nM 14.796875 27.296875 \nQ 14.796875 17.390625 18.875 11.75 \nQ 22.953125 6.109375 30.078125 6.109375 \nQ 37.203125 6.109375 41.296875 11.75 \nQ 45.40625 17.390625 45.40625 27.296875 \nQ 45.40625 37.203125 41.296875 42.84375 \nQ 37.203125 48.484375 30.078125 48.484375 \nQ 22.953125 48.484375 18.875 42.84375 \nQ 14.796875 37.203125 14.796875 27.296875 \nz\n\" id=\"DejaVuSans-100\"/>\n      <path d=\"M 56.203125 29.59375 \nL 56.203125 25.203125 \nL 14.890625 25.203125 \nQ 15.484375 15.921875 20.484375 11.0625 \nQ 25.484375 6.203125 34.421875 6.203125 \nQ 39.59375 6.203125 44.453125 7.46875 \nQ 49.3125 8.734375 54.109375 11.28125 \nL 54.109375 2.78125 \nQ 49.265625 0.734375 44.1875 -0.34375 \nQ 39.109375 -1.421875 33.890625 -1.421875 \nQ 20.796875 -1.421875 13.15625 6.1875 \nQ 5.515625 13.8125 5.515625 26.8125 \nQ 5.515625 40.234375 12.765625 48.109375 \nQ 20.015625 56 32.328125 56 \nQ 43.359375 56 49.78125 48.890625 \nQ 56.203125 41.796875 56.203125 29.59375 \nz\nM 47.21875 32.234375 \nQ 47.125 39.59375 43.09375 43.984375 \nQ 39.0625 48.390625 32.421875 48.390625 \nQ 24.90625 48.390625 20.390625 44.140625 \nQ 15.875 39.890625 15.1875 32.171875 \nz\n\" id=\"DejaVuSans-101\"/>\n      <path d=\"M 34.28125 27.484375 \nQ 23.390625 27.484375 19.1875 25 \nQ 14.984375 22.515625 14.984375 16.5 \nQ 14.984375 11.71875 18.140625 8.90625 \nQ 21.296875 6.109375 26.703125 6.109375 \nQ 34.1875 6.109375 38.703125 11.40625 \nQ 43.21875 16.703125 43.21875 25.484375 \nL 43.21875 27.484375 \nz\nM 52.203125 31.203125 \nL 52.203125 0 \nL 43.21875 0 \nL 43.21875 8.296875 \nQ 40.140625 3.328125 35.546875 0.953125 \nQ 30.953125 -1.421875 24.3125 -1.421875 \nQ 15.921875 -1.421875 10.953125 3.296875 \nQ 6 8.015625 6 15.921875 \nQ 6 25.140625 12.171875 29.828125 \nQ 18.359375 34.515625 30.609375 34.515625 \nL 43.21875 34.515625 \nL 43.21875 35.40625 \nQ 43.21875 41.609375 39.140625 45 \nQ 35.0625 48.390625 27.6875 48.390625 \nQ 23 48.390625 18.546875 47.265625 \nQ 14.109375 46.140625 10.015625 43.890625 \nL 10.015625 52.203125 \nQ 14.9375 54.109375 19.578125 55.046875 \nQ 24.21875 56 28.609375 56 \nQ 40.484375 56 46.34375 49.84375 \nQ 52.203125 43.703125 52.203125 31.203125 \nz\n\" id=\"DejaVuSans-97\"/>\n      <path d=\"M 18.3125 70.21875 \nL 18.3125 54.6875 \nL 36.8125 54.6875 \nL 36.8125 47.703125 \nL 18.3125 47.703125 \nL 18.3125 18.015625 \nQ 18.3125 11.328125 20.140625 9.421875 \nQ 21.96875 7.515625 27.59375 7.515625 \nL 36.8125 7.515625 \nL 36.8125 0 \nL 27.59375 0 \nQ 17.1875 0 13.234375 3.875 \nQ 9.28125 7.765625 9.28125 18.015625 \nL 9.28125 47.703125 \nL 2.6875 47.703125 \nL 2.6875 54.6875 \nL 9.28125 54.6875 \nL 9.28125 70.21875 \nz\n\" id=\"DejaVuSans-116\"/>\n      <path d=\"M 54.890625 33.015625 \nL 54.890625 0 \nL 45.90625 0 \nL 45.90625 32.71875 \nQ 45.90625 40.484375 42.875 44.328125 \nQ 39.84375 48.1875 33.796875 48.1875 \nQ 26.515625 48.1875 22.3125 43.546875 \nQ 18.109375 38.921875 18.109375 30.90625 \nL 18.109375 0 \nL 9.078125 0 \nL 9.078125 75.984375 \nL 18.109375 75.984375 \nL 18.109375 46.1875 \nQ 21.34375 51.125 25.703125 53.5625 \nQ 30.078125 56 35.796875 56 \nQ 45.21875 56 50.046875 50.171875 \nQ 54.890625 44.34375 54.890625 33.015625 \nz\n\" id=\"DejaVuSans-104\"/>\n     </defs>\n     <g transform=\"translate(307.020312 23.798437)scale(0.1 -0.1)\">\n      <use xlink:href=\"#DejaVuSans-100\"/>\n      <use x=\"63.476562\" xlink:href=\"#DejaVuSans-101\"/>\n      <use x=\"125\" xlink:href=\"#DejaVuSans-97\"/>\n      <use x=\"186.279297\" xlink:href=\"#DejaVuSans-116\"/>\n      <use x=\"225.488281\" xlink:href=\"#DejaVuSans-104\"/>\n     </g>\n    </g>\n    <g id=\"patch_69\">\n     <path d=\"M 279.020312 38.476562 \nL 299.020312 38.476562 \nL 299.020312 31.476562 \nL 279.020312 31.476562 \nz\n\" style=\"fill:#ff7f0e;opacity:0.5;\"/>\n    </g>\n    <g id=\"text_15\">\n     <!-- censored -->\n     <defs>\n      <path d=\"M 48.78125 52.59375 \nL 48.78125 44.1875 \nQ 44.96875 46.296875 41.140625 47.34375 \nQ 37.3125 48.390625 33.40625 48.390625 \nQ 24.65625 48.390625 19.8125 42.84375 \nQ 14.984375 37.3125 14.984375 27.296875 \nQ 14.984375 17.28125 19.8125 11.734375 \nQ 24.65625 6.203125 33.40625 6.203125 \nQ 37.3125 6.203125 41.140625 7.25 \nQ 44.96875 8.296875 48.78125 10.40625 \nL 48.78125 2.09375 \nQ 45.015625 0.34375 40.984375 -0.53125 \nQ 36.96875 -1.421875 32.421875 -1.421875 \nQ 20.0625 -1.421875 12.78125 6.34375 \nQ 5.515625 14.109375 5.515625 27.296875 \nQ 5.515625 40.671875 12.859375 48.328125 \nQ 20.21875 56 33.015625 56 \nQ 37.15625 56 41.109375 55.140625 \nQ 45.0625 54.296875 48.78125 52.59375 \nz\n\" id=\"DejaVuSans-99\"/>\n      <path d=\"M 54.890625 33.015625 \nL 54.890625 0 \nL 45.90625 0 \nL 45.90625 32.71875 \nQ 45.90625 40.484375 42.875 44.328125 \nQ 39.84375 48.1875 33.796875 48.1875 \nQ 26.515625 48.1875 22.3125 43.546875 \nQ 18.109375 38.921875 18.109375 30.90625 \nL 18.109375 0 \nL 9.078125 0 \nL 9.078125 54.6875 \nL 18.109375 54.6875 \nL 18.109375 46.1875 \nQ 21.34375 51.125 25.703125 53.5625 \nQ 30.078125 56 35.796875 56 \nQ 45.21875 56 50.046875 50.171875 \nQ 54.890625 44.34375 54.890625 33.015625 \nz\n\" id=\"DejaVuSans-110\"/>\n      <path d=\"M 44.28125 53.078125 \nL 44.28125 44.578125 \nQ 40.484375 46.53125 36.375 47.5 \nQ 32.28125 48.484375 27.875 48.484375 \nQ 21.1875 48.484375 17.84375 46.4375 \nQ 14.5 44.390625 14.5 40.28125 \nQ 14.5 37.15625 16.890625 35.375 \nQ 19.28125 33.59375 26.515625 31.984375 \nL 29.59375 31.296875 \nQ 39.15625 29.25 43.1875 25.515625 \nQ 47.21875 21.78125 47.21875 15.09375 \nQ 47.21875 7.46875 41.1875 3.015625 \nQ 35.15625 -1.421875 24.609375 -1.421875 \nQ 20.21875 -1.421875 15.453125 -0.5625 \nQ 10.6875 0.296875 5.421875 2 \nL 5.421875 11.28125 \nQ 10.40625 8.6875 15.234375 7.390625 \nQ 20.0625 6.109375 24.8125 6.109375 \nQ 31.15625 6.109375 34.5625 8.28125 \nQ 37.984375 10.453125 37.984375 14.40625 \nQ 37.984375 18.0625 35.515625 20.015625 \nQ 33.0625 21.96875 24.703125 23.78125 \nL 21.578125 24.515625 \nQ 13.234375 26.265625 9.515625 29.90625 \nQ 5.8125 33.546875 5.8125 39.890625 \nQ 5.8125 47.609375 11.28125 51.796875 \nQ 16.75 56 26.8125 56 \nQ 31.78125 56 36.171875 55.265625 \nQ 40.578125 54.546875 44.28125 53.078125 \nz\n\" id=\"DejaVuSans-115\"/>\n      <path d=\"M 30.609375 48.390625 \nQ 23.390625 48.390625 19.1875 42.75 \nQ 14.984375 37.109375 14.984375 27.296875 \nQ 14.984375 17.484375 19.15625 11.84375 \nQ 23.34375 6.203125 30.609375 6.203125 \nQ 37.796875 6.203125 41.984375 11.859375 \nQ 46.1875 17.53125 46.1875 27.296875 \nQ 46.1875 37.015625 41.984375 42.703125 \nQ 37.796875 48.390625 30.609375 48.390625 \nz\nM 30.609375 56 \nQ 42.328125 56 49.015625 48.375 \nQ 55.71875 40.765625 55.71875 27.296875 \nQ 55.71875 13.875 49.015625 6.21875 \nQ 42.328125 -1.421875 30.609375 -1.421875 \nQ 18.84375 -1.421875 12.171875 6.21875 \nQ 5.515625 13.875 5.515625 27.296875 \nQ 5.515625 40.765625 12.171875 48.375 \nQ 18.84375 56 30.609375 56 \nz\n\" id=\"DejaVuSans-111\"/>\n      <path d=\"M 41.109375 46.296875 \nQ 39.59375 47.171875 37.8125 47.578125 \nQ 36.03125 48 33.890625 48 \nQ 26.265625 48 22.1875 43.046875 \nQ 18.109375 38.09375 18.109375 28.8125 \nL 18.109375 0 \nL 9.078125 0 \nL 9.078125 54.6875 \nL 18.109375 54.6875 \nL 18.109375 46.1875 \nQ 20.953125 51.171875 25.484375 53.578125 \nQ 30.03125 56 36.53125 56 \nQ 37.453125 56 38.578125 55.875 \nQ 39.703125 55.765625 41.0625 55.515625 \nz\n\" id=\"DejaVuSans-114\"/>\n     </defs>\n     <g transform=\"translate(307.020312 38.476562)scale(0.1 -0.1)\">\n      <use xlink:href=\"#DejaVuSans-99\"/>\n      <use x=\"54.980469\" xlink:href=\"#DejaVuSans-101\"/>\n      <use x=\"116.503906\" xlink:href=\"#DejaVuSans-110\"/>\n      <use x=\"179.882812\" xlink:href=\"#DejaVuSans-115\"/>\n      <use x=\"231.982422\" xlink:href=\"#DejaVuSans-111\"/>\n      <use x=\"293.164062\" xlink:href=\"#DejaVuSans-114\"/>\n      <use x=\"332.027344\" xlink:href=\"#DejaVuSans-101\"/>\n      <use x=\"393.550781\" xlink:href=\"#DejaVuSans-100\"/>\n     </g>\n    </g>\n   </g>\n  </g>\n </g>\n <defs>\n  <clipPath id=\"p66b76ef883\">\n   <rect height=\"217.44\" width=\"334.8\" x=\"26.925\" y=\"7.2\"/>\n  </clipPath>\n </defs>\n</svg>\n",
      "text/plain": "<Figure size 432x288 with 1 Axes>"
     },
     "metadata": {
      "needs_background": "light"
     },
     "output_type": "display_data"
    }
   ],
   "source": [
    "plt.hist(df[df[\"e\"] == 1][\"surv_prob\"].values, bins=30, alpha=0.5, density=True, label=\"death\")\n",
    "plt.hist(df[df[\"e\"] == 0][\"surv_prob\"].values, bins=30, alpha=0.5, density=True, label=\"censored\")\n",
    "plt.legend()\n",
    "plt.show()"
   ]
  },
  {
   "cell_type": "code",
   "execution_count": null,
   "metadata": {},
   "outputs": [],
   "source": [
    "# %reload_ext tensorboard\n",
    "# %tensorboard --logdir ./lightning_logs/"
   ]
  },
  {
   "cell_type": "code",
   "execution_count": null,
   "metadata": {},
   "outputs": [
    {
     "name": "stdout",
     "output_type": "stream",
     "text": [
      "Converted 00_index.ipynb.\nConverted 10_SAT.ipynb.\nConverted 20_KaplanMeier.ipynb.\nConverted 50_hazard.ipynb.\nConverted 55_hazard.PiecewiseHazard.ipynb.\nConverted 59_hazard.Cox.ipynb.\nConverted 60_AFT_models.ipynb.\nConverted 65_AFT_error_distributions.ipynb.\nConverted 80_data.ipynb.\nConverted 90_model.ipynb.\nConverted 95_Losses.ipynb.\n"
     ]
    }
   ],
   "source": [
    "# hide\n",
    "from nbdev.export import *\n",
    "notebook2script()"
   ]
  },
  {
   "cell_type": "code",
   "execution_count": null,
   "metadata": {},
   "outputs": [],
   "source": []
  }
 ],
 "metadata": {
  "kernelspec": {
   "display_name": "Python 3",
   "language": "python",
   "name": "python3"
  }
 },
 "nbformat": 4,
 "nbformat_minor": 4
}
