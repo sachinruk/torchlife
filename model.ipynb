{
 "cells": [
  {
   "cell_type": "code",
   "execution_count": null,
   "metadata": {},
   "outputs": [],
   "source": [
    "#default_exp model"
   ]
  },
  {
   "cell_type": "markdown",
   "metadata": {},
   "source": [
    "# Base Model\n",
    "> This class contains the base which is used to train data upon."
   ]
  },
  {
   "cell_type": "code",
   "execution_count": null,
   "metadata": {},
   "outputs": [],
   "source": [
    "# hide\n",
    "%load_ext autoreload\n",
    "%autoreload 2\n",
    "%matplotlib inline"
   ]
  },
  {
   "cell_type": "code",
   "execution_count": null,
   "metadata": {},
   "outputs": [],
   "source": [
    "# export\n",
    "from torchlife.models.km import KaplanMeier\n",
    "from torchlife.models.ph import PieceWiseHazard\n",
    "from torchlife.models.cox import ProportionalHazard\n",
    "\n",
    "from torchlife.data import create_db, create_test_dl\n",
    "\n",
    "from torchlife.losses import *\n",
    "\n",
    "from fastai.basics import Learner"
   ]
  },
  {
   "cell_type": "code",
   "execution_count": null,
   "metadata": {},
   "outputs": [],
   "source": [
    "# export\n",
    "__text2model__ = {\n",
    "    'km': KaplanMeier,\n",
    "    'ph': PieceWiseHazard,\n",
    "    'cox': ProportionalHazard\n",
    "}\n",
    "\n",
    "__text2loss__ = {\n",
    "    'km': hazard_loss,\n",
    "    'ph': hazard_loss,\n",
    "    'cox': hazard_loss\n",
    "}"
   ]
  },
  {
   "cell_type": "code",
   "execution_count": null,
   "metadata": {},
   "outputs": [],
   "source": [
    "# export\n",
    "class Model:\n",
    "    def __init__(self, model:str, model_args:dict=None, breakpoints:list=None, \n",
    "                 bs:int=128, epochs:int=20, lr:float=1, beta:float=0):\n",
    "        self.model = __text2model__[model](**model_args)\n",
    "        self.loss = __text2loss__[model]\n",
    "        self.breakpoints = breakpoints\n",
    "        self.bs, self.epochs, self.lr, self.beta = bs, epochs, lr, beta\n",
    "        \n",
    "    def lr_find(df):\n",
    "        db = create_db(df, self.breakpoints)\n",
    "        learner = Learner(db, model, loss_func=hazard_loss)\n",
    "        learner.lr_find(wd=self.beta)\n",
    "        learner.recorder.plot()\n",
    "        \n",
    "    def fit(df):\n",
    "        if hasattr(self.model, 'fit'):\n",
    "            self.model.fit(df)\n",
    "        else:\n",
    "            db = create_db(df, self.breakpoints)\n",
    "            learner = Learner(db, model, loss_func=hazard_loss)\n",
    "            learner.fit(self.epochs, lr=self.lr, wd=self.beta)\n",
    "            \n",
    "    def predict(df):\n",
    "        test_dl = create_test_dl(df)\n",
    "        preds = []\n",
    "        for x in test_dl:\n",
    "            preds.append(self.model(x))\n",
    "        return preds\n",
    "        \n",
    "    def plot_survival():\n",
    "        self.model.plot_survival_function()"
   ]
  },
  {
   "cell_type": "code",
   "execution_count": null,
   "metadata": {},
   "outputs": [
    {
     "name": "stdout",
     "output_type": "stream",
     "text": [
      "Converted model.ipynb.\n"
     ]
    }
   ],
   "source": [
    "# hide\n",
    "from nbdev.export import *\n",
    "notebook2script(\"model.ipynb\")"
   ]
  }
 ],
 "metadata": {
  "kernelspec": {
   "display_name": "Python 3",
   "language": "python",
   "name": "python3"
  }
 },
 "nbformat": 4,
 "nbformat_minor": 4
}
