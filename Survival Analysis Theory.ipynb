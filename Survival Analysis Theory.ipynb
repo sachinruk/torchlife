{
 "cells": [
  {
   "cell_type": "markdown",
   "metadata": {},
   "source": [
    "# Survival Analysis Theory\n",
    "> The maths behind survival analysis.\n",
    "\n",
    "Much of the work here is summarised from the notes in [Generalised Linear Models by Germán Rodríguez](https://data.princeton.edu/wws509/notes/c7s1), Chapter 7."
   ]
  },
  {
   "cell_type": "markdown",
   "metadata": {},
   "source": [
    "## The Survival Function\n",
    "Let us define $S(t)$ to be the probability that an object will survive beyond time $t$. If $f(t)$ is the **instantaneous** probability that a death would be observed at time $t$, the survival function is defined as:\n",
    "$$\n",
    "S(t) = P(T > t) = 1 - \\int_{-\\infty}^t f(x) dx\n",
    "$$"
   ]
  },
  {
   "cell_type": "markdown",
   "metadata": {},
   "source": [
    "## The Hazard Function\n",
    "Another important concept is the hazard function, $\\lambda(t)$, which is the **instantaneous rate** of occurence, given that the object has survived until time $t$.\n",
    "$$\n",
    "\\lambda(t) = \\lim\\limits_{dt\\to0} \\frac{P(t<T<t+dt | T > t)}{dt}\\\\\n",
    "$$\n",
    "\n",
    "The above can be simplified down by using Bayes Rule, and the definition of $S(t)$ above:\n",
    "$$\n",
    "\\begin{align}\n",
    "\\lambda(t) =& \\lim\\limits_{dt\\to0} \\frac{P(t<T<t+dt, T > t)}{P(T > t)\\quad dt}\\\\\n",
    "=& \\lim\\limits_{dt\\to0} \\frac{P(t<T<t+dt)}{dt} \\frac{1}{S(t)}\\\\\n",
    "=& \\frac{f(t)}{S(t)}\n",
    "\\end{align}\n",
    "$$\n",
    "\n",
    "Since $S'(t) = -f(t)$ from the first equation, we can also state:\n",
    "$$\n",
    "\\lambda(t) = - \\frac{d}{dt}\\log S(t)\n",
    "$$\n",
    "\n",
    "Therefore, the survival function will can be stated as:\n",
    "$$\n",
    "S(t) = \\exp\\left(-\\int_{-\\infty}^t \\lambda(x) dx\\right)\n",
    "$$\n",
    "and this will come in handy when we are coding up the survival function."
   ]
  },
  {
   "cell_type": "markdown",
   "metadata": {},
   "source": [
    "## Likelihood Function\n",
    "In any probabilistic framework we wish to maxmise the likelihood of observed data given the probability functions. However, unlike classification/ regression situations we need to modify the likelihood $f(t)$. Let us define the case where death, $d_i$ hasn't been observed as censored observations. In those case we know that death will occur at a point $T > t$. Therefore the likelihood $L$ can be defined as:\n",
    "$$\n",
    "L_i = \\begin{cases}\n",
    "f(t_i) = S(t_i)\\lambda(t_i) &\\text{ when }d_i = 1 \\\\\n",
    "\\int^{\\infty}_t f(x) dx = S(t_i) &\\text{ when }d_i = 0\n",
    "\\end{cases}\n",
    "$$\n",
    "\n",
    "The above can be simplified as:\n",
    "$$\n",
    "\\begin{align}\n",
    "L =& \\prod_{i=1}^N L_i = \\prod_{i=1}^N \\lambda(t_i)^{d_i} S(t_i) \\\\\n",
    "\\log L =& \\sum_{i=1}^N d_i \\log \\lambda(t_i) - \\Lambda(t_i) \\\\\n",
    "-\\log L =& \\sum_{i=1}^N \\Lambda(t_i) - d_i \\log \\lambda(t_i)\n",
    "\\end{align}\n",
    "$$\n",
    "where $\\Lambda(t)\\equiv -\\log S(t)$ is cumulative hazard function.\n",
    "\n",
    "Similarly if we wish to avoid taking into account the hazard function, we can define the likelihood function to be:\n",
    "$$\n",
    "\\begin{align}\n",
    "L =& \\prod_{i=1}^N L_i = \\prod_{i=1}^N f(t_i)^{d_i} S(t_i)^{1-d_i} \\\\\n",
    "-log L =& -\\sum_{i=1}^N d_i \\log f(t_i) + (1 - d_i) \\log S(t_i)\n",
    "\\end{align}\n",
    "$$\n",
    "\n",
    "These two formats of the likelihood will be used when modelling the behaviours of censored data (in different modelling settings). We use the negative log likelihood as this is more accommodating for modern deep learning libraries that do gradient descent."
   ]
  },
  {
   "cell_type": "code",
   "execution_count": null,
   "metadata": {},
   "outputs": [],
   "source": [
    " "
   ]
  }
 ],
 "metadata": {
  "kernelspec": {
   "display_name": "Python 3",
   "language": "python",
   "name": "python3"
  }
 },
 "nbformat": 4,
 "nbformat_minor": 2
}
