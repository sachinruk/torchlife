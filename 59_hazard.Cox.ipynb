{
 "cells": [
  {
   "cell_type": "code",
   "execution_count": null,
   "metadata": {},
   "outputs": [],
   "source": [
    "# default_exp models.cox"
   ]
  },
  {
   "cell_type": "markdown",
   "metadata": {},
   "source": [
    "# Cox Proportional Hazard\n",
    "> SA with features apart from time\n",
    "\n",
    "We model the the instantaneous hazard as the product of two functions, one with the time component, and the other with the feature component.\n",
    "$$\n",
    "\\begin{aligned}\n",
    "\\lambda(t,x) = \\lambda(t)h(x)\n",
    "\\end{aligned}\n",
    "$$\n",
    "\n",
    "It is important to have the seperation of these functions to arrive at an analytical solution. This is so that the time component can be integrated out to give the survival function.\n",
    "\n",
    "$$\n",
    "\\begin{aligned}\n",
    "\\int_0^T \\lambda(t,x) dt &= \\int_0^T \\lambda(t)h(x) dt\\\\\n",
    "&= h(x)\\int_0^T \\lambda(t) dt\\\\\n",
    "S(t) &= \\exp\\left(-h(x)\\int_{-\\infty}^t \\lambda(\\tau) d\\tau\\right)\n",
    "\\end{aligned}\n",
    "$$"
   ]
  },
  {
   "cell_type": "code",
   "execution_count": null,
   "metadata": {},
   "outputs": [],
   "source": [
    "# export\n",
    "import matplotlib.pyplot as plt\n",
    "import numpy as np\n",
    "import torch\n",
    "import torch.nn as nn\n",
    "import torch.nn.functional as F\n",
    "from sklearn.preprocessing import MaxAbsScaler, StandardScaler\n",
    "\n",
    "from torchlife.losses import hazard_loss\n",
    "from torchlife.models.ph import PieceWiseHazard\n",
    "\n",
    "# torch.Tensor.ndim = property(lambda x: x.dim())"
   ]
  },
  {
   "cell_type": "code",
   "execution_count": null,
   "metadata": {},
   "outputs": [],
   "source": [
    "# hide\n",
    "%load_ext autoreload\n",
    "%autoreload 2\n",
    "%matplotlib inline"
   ]
  },
  {
   "cell_type": "code",
   "execution_count": null,
   "metadata": {},
   "outputs": [],
   "source": [
    "# export\n",
    "class ProportionalHazard(nn.Module):\n",
    "    \"\"\"\n",
    "    Hazard proportional to time and feature component as shown above.\n",
    "    parameters:\n",
    "    - breakpoints: time points where hazard would change\n",
    "    - max_t: maximum point of time to plot to.\n",
    "    - dim: number of input dimensions of x\n",
    "    - h: (optional) number of hidden units (for x only).\n",
    "    \"\"\"\n",
    "    def __init__(self, breakpoints:np.array, t_scaler:MaxAbsScaler, x_scaler:StandardScaler, \n",
    "                 dim:int, h:tuple=(), **kwargs):\n",
    "        super().__init__()\n",
    "        self.baseλ = PieceWiseHazard(breakpoints, t_scaler)\n",
    "        self.x_scaler = x_scaler\n",
    "        nodes = (dim,) + h + (1,)\n",
    "        self.layers = nn.ModuleList([nn.Linear(a,b, bias=False) \n",
    "                                   for a,b in zip(nodes[:-1], nodes[1:])])\n",
    "        \n",
    "    def forward(self, t, t_section, x):\n",
    "        logλ, Λ = self.baseλ(t, t_section)\n",
    "        \n",
    "        for layer in self.layers[:-1]:\n",
    "            x = F.relu(layer(x))\n",
    "        log_hx = self.layers[-1](x)\n",
    "        \n",
    "        logλ += log_hx\n",
    "        Λ = torch.exp(log_hx + torch.log(Λ))\n",
    "        return logλ, Λ\n",
    "    \n",
    "    def survival_function(self, t:np.array, x:np.array) -> torch.Tensor:\n",
    "        if len(t.shape) == 1:\n",
    "            t = t[:,None]\n",
    "        t = self.baseλ.t_scaler.transform(t)\n",
    "        if len(x.shape) == 1:\n",
    "            x = x[None, :]\n",
    "        if len(x) == 1:\n",
    "            x = np.repeat(x, len(t), axis=0)\n",
    "        x = self.x_scaler.transform(x)\n",
    "        \n",
    "        \n",
    "        with torch.no_grad():\n",
    "            x = torch.Tensor(x)\n",
    "            # get the times and time sections for survival function\n",
    "            breakpoints = self.baseλ.breakpoints[1:].cpu().numpy()\n",
    "            t_sec_query = np.searchsorted(breakpoints.squeeze(), t.squeeze())\n",
    "            # convert to pytorch tensors\n",
    "            t_query = torch.Tensor(t)\n",
    "            t_sec_query = torch.LongTensor(t_sec_query)\n",
    "\n",
    "            # calculate cumulative hazard according to above\n",
    "            _, Λ = self.forward(t_query, t_sec_query, x)\n",
    "            return torch.exp(-Λ)\n",
    "            \n",
    "    \n",
    "    def plot_survival_function(self, t:np.array, x:np.array) -> None:\n",
    "        s = self.survival_function(t, x)\n",
    "        \n",
    "        # plot\n",
    "        plt.figure(figsize=(12,5))\n",
    "        plt.plot(t, s)\n",
    "        plt.xlabel('Time')\n",
    "        plt.ylabel('Survival Probability')\n",
    "        plt.show()"
   ]
  },
  {
   "cell_type": "markdown",
   "metadata": {},
   "source": [
    "## Fitting Cox Proportional Hazard Model"
   ]
  },
  {
   "cell_type": "code",
   "execution_count": null,
   "metadata": {},
   "outputs": [],
   "source": [
    "# hide\n",
    "from torchlife.data import create_db, get_breakpoints\n",
    "import pandas as pd"
   ]
  },
  {
   "cell_type": "code",
   "execution_count": null,
   "metadata": {},
   "outputs": [
    {
     "data": {
      "text/html": [
       "<div>\n",
       "<style scoped>\n",
       "    .dataframe tbody tr th:only-of-type {\n",
       "        vertical-align: middle;\n",
       "    }\n",
       "\n",
       "    .dataframe tbody tr th {\n",
       "        vertical-align: top;\n",
       "    }\n",
       "\n",
       "    .dataframe thead th {\n",
       "        text-align: right;\n",
       "    }\n",
       "</style>\n",
       "<table border=\"1\" class=\"dataframe\">\n",
       "  <thead>\n",
       "    <tr style=\"text-align: right;\">\n",
       "      <th></th>\n",
       "      <th>week</th>\n",
       "      <th>arrest</th>\n",
       "      <th>fin</th>\n",
       "      <th>age</th>\n",
       "      <th>race</th>\n",
       "      <th>wexp</th>\n",
       "      <th>mar</th>\n",
       "      <th>paro</th>\n",
       "      <th>prio</th>\n",
       "    </tr>\n",
       "  </thead>\n",
       "  <tbody>\n",
       "    <tr>\n",
       "      <th>0</th>\n",
       "      <td>20</td>\n",
       "      <td>1</td>\n",
       "      <td>0</td>\n",
       "      <td>27</td>\n",
       "      <td>1</td>\n",
       "      <td>0</td>\n",
       "      <td>0</td>\n",
       "      <td>1</td>\n",
       "      <td>3</td>\n",
       "    </tr>\n",
       "    <tr>\n",
       "      <th>1</th>\n",
       "      <td>17</td>\n",
       "      <td>1</td>\n",
       "      <td>0</td>\n",
       "      <td>18</td>\n",
       "      <td>1</td>\n",
       "      <td>0</td>\n",
       "      <td>0</td>\n",
       "      <td>1</td>\n",
       "      <td>8</td>\n",
       "    </tr>\n",
       "    <tr>\n",
       "      <th>2</th>\n",
       "      <td>25</td>\n",
       "      <td>1</td>\n",
       "      <td>0</td>\n",
       "      <td>19</td>\n",
       "      <td>0</td>\n",
       "      <td>1</td>\n",
       "      <td>0</td>\n",
       "      <td>1</td>\n",
       "      <td>13</td>\n",
       "    </tr>\n",
       "    <tr>\n",
       "      <th>3</th>\n",
       "      <td>52</td>\n",
       "      <td>0</td>\n",
       "      <td>1</td>\n",
       "      <td>23</td>\n",
       "      <td>1</td>\n",
       "      <td>1</td>\n",
       "      <td>1</td>\n",
       "      <td>1</td>\n",
       "      <td>1</td>\n",
       "    </tr>\n",
       "    <tr>\n",
       "      <th>4</th>\n",
       "      <td>52</td>\n",
       "      <td>0</td>\n",
       "      <td>0</td>\n",
       "      <td>19</td>\n",
       "      <td>0</td>\n",
       "      <td>1</td>\n",
       "      <td>0</td>\n",
       "      <td>1</td>\n",
       "      <td>3</td>\n",
       "    </tr>\n",
       "  </tbody>\n",
       "</table>\n",
       "</div>"
      ],
      "text/plain": [
       "   week  arrest  fin  age  race  wexp  mar  paro  prio\n",
       "0    20       1    0   27     1     0    0     1     3\n",
       "1    17       1    0   18     1     0    0     1     8\n",
       "2    25       1    0   19     0     1    0     1    13\n",
       "3    52       0    1   23     1     1    1     1     1\n",
       "4    52       0    0   19     0     1    0     1     3"
      ]
     },
     "execution_count": null,
     "metadata": {},
     "output_type": "execute_result"
    }
   ],
   "source": [
    "# hide\n",
    "url = \"https://raw.githubusercontent.com/CamDavidsonPilon/lifelines/master/lifelines/datasets/rossi.csv\"\n",
    "df = pd.read_csv(url)\n",
    "df.head()"
   ]
  },
  {
   "cell_type": "code",
   "execution_count": null,
   "metadata": {},
   "outputs": [],
   "source": [
    "# hide\n",
    "df.rename(columns={'week':'t', 'arrest':'e'}, inplace=True)\n",
    "breakpoints = get_breakpoints(df)\n",
    "db, t_scaler, x_scaler = create_db(df, breakpoints)"
   ]
  },
  {
   "cell_type": "code",
   "execution_count": null,
   "metadata": {},
   "outputs": [],
   "source": [
    "# hide\n",
    "from fastai.basics import Learner\n",
    "\n",
    "x_dim = df.shape[1] - 2\n",
    "model = ProportionalHazard(breakpoints, t_scaler, x_scaler, x_dim, h=(3,3))\n",
    "learner = Learner(db, model, loss_func=hazard_loss)\n",
    "# wd = 1e-4\n",
    "# learner.lr_find()\n",
    "# learner.recorder.plot()"
   ]
  },
  {
   "cell_type": "code",
   "execution_count": null,
   "metadata": {},
   "outputs": [
    {
     "data": {
      "text/html": [
       "<table border=\"1\" class=\"dataframe\">\n",
       "  <thead>\n",
       "    <tr style=\"text-align: left;\">\n",
       "      <th>epoch</th>\n",
       "      <th>train_loss</th>\n",
       "      <th>valid_loss</th>\n",
       "      <th>time</th>\n",
       "    </tr>\n",
       "  </thead>\n",
       "  <tbody>\n",
       "    <tr>\n",
       "      <td>0</td>\n",
       "      <td>1.191480</td>\n",
       "      <td>0.575938</td>\n",
       "      <td>00:00</td>\n",
       "    </tr>\n",
       "    <tr>\n",
       "      <td>1</td>\n",
       "      <td>0.881217</td>\n",
       "      <td>0.621043</td>\n",
       "      <td>00:00</td>\n",
       "    </tr>\n",
       "    <tr>\n",
       "      <td>2</td>\n",
       "      <td>0.781209</td>\n",
       "      <td>0.650597</td>\n",
       "      <td>00:00</td>\n",
       "    </tr>\n",
       "    <tr>\n",
       "      <td>3</td>\n",
       "      <td>0.728679</td>\n",
       "      <td>0.600328</td>\n",
       "      <td>00:00</td>\n",
       "    </tr>\n",
       "    <tr>\n",
       "      <td>4</td>\n",
       "      <td>0.693815</td>\n",
       "      <td>0.558830</td>\n",
       "      <td>00:00</td>\n",
       "    </tr>\n",
       "    <tr>\n",
       "      <td>5</td>\n",
       "      <td>0.672443</td>\n",
       "      <td>0.555795</td>\n",
       "      <td>00:00</td>\n",
       "    </tr>\n",
       "    <tr>\n",
       "      <td>6</td>\n",
       "      <td>0.656790</td>\n",
       "      <td>0.577825</td>\n",
       "      <td>00:00</td>\n",
       "    </tr>\n",
       "    <tr>\n",
       "      <td>7</td>\n",
       "      <td>0.645578</td>\n",
       "      <td>0.597438</td>\n",
       "      <td>00:00</td>\n",
       "    </tr>\n",
       "    <tr>\n",
       "      <td>8</td>\n",
       "      <td>0.634297</td>\n",
       "      <td>0.573406</td>\n",
       "      <td>00:00</td>\n",
       "    </tr>\n",
       "    <tr>\n",
       "      <td>9</td>\n",
       "      <td>0.626760</td>\n",
       "      <td>0.578860</td>\n",
       "      <td>00:00</td>\n",
       "    </tr>\n",
       "  </tbody>\n",
       "</table>"
      ],
      "text/plain": [
       "<IPython.core.display.HTML object>"
      ]
     },
     "metadata": {},
     "output_type": "display_data"
    }
   ],
   "source": [
    "# hide\n",
    "epochs = 10\n",
    "learner.fit(epochs, lr=1)"
   ]
  },
  {
   "cell_type": "markdown",
   "metadata": {},
   "source": [
    "## Plotting hazard functions"
   ]
  },
  {
   "cell_type": "code",
   "execution_count": null,
   "metadata": {},
   "outputs": [
    {
     "data": {
      "image/png": "[encoded data removed]",
      "text/plain": [
       "<Figure size 864x360 with 1 Axes>"
      ]
     },
     "metadata": {
      "needs_background": "light"
     },
     "output_type": "display_data"
    },
    {
     "data": {
      "image/png": "[encoded data removed]",
      "text/plain": [
       "<Figure size 864x360 with 1 Axes>"
      ]
     },
     "metadata": {
      "needs_background": "light"
     },
     "output_type": "display_data"
    }
   ],
   "source": [
    "model.baseλ.plot_hazard()\n",
    "x = df.drop(['t', 'e'], axis=1).iloc[4]\n",
    "t = np.arange(df['t'].max())\n",
    "model.plot_survival_function(t, x)"
   ]
  },
  {
   "cell_type": "code",
   "execution_count": null,
   "metadata": {},
   "outputs": [
    {
     "name": "stdout",
     "output_type": "stream",
     "text": [
      "Converted 00_index.ipynb.\n",
      "Converted 10_SAT.ipynb.\n",
      "Converted 20_KaplanMeier.ipynb.\n",
      "Converted 50_hazard.ipynb.\n",
      "Converted 55_hazard.PiecewiseHazard.ipynb.\n",
      "Converted 59_hazard.Cox.ipynb.\n",
      "Converted 60_AFT_models.ipynb.\n",
      "Converted 65_AFT_error_distributions.ipynb.\n",
      "Converted 80_data.ipynb.\n",
      "Converted 90_model.ipynb.\n",
      "Converted 95_Losses.ipynb.\n"
     ]
    }
   ],
   "source": [
    "# hide\n",
    "from nbdev.export import *\n",
    "notebook2script()"
   ]
  },
  {
   "cell_type": "code",
   "execution_count": null,
   "metadata": {},
   "outputs": [],
   "source": []
  }
 ],
 "metadata": {
  "kernelspec": {
   "display_name": "Python 3",
   "language": "python",
   "name": "python3"
  }
 },
 "nbformat": 4,
 "nbformat_minor": 2
}
